{
 "cells": [
  {
   "cell_type": "code",
   "execution_count": 53,
   "id": "d178e0a0-074a-46d1-8d0d-967619c3c501",
   "metadata": {},
   "outputs": [
    {
     "name": "stdout",
     "output_type": "stream",
     "text": [
      "{1: 'hellow', 2: 'hi', 3: 'hey'}\n",
      "hellow\n",
      "hey\n",
      "{1: 'world', 2: 'hi', 3: 'hey'}\n",
      "{1: 'world', 2: 'hi', 3: 'hey', 4: 'mmm'}\n"
     ]
    }
   ],
   "source": [
    "#Accessing elements from a dictionary\n",
    "new_dict = {1:\"hellow\", 2:\"hi\", 3:\"hey\"}\n",
    "print(new_dict)\n",
    "print(new_dict[1])\n",
    "print (new_dict.get(3))\n",
    "\n",
    "# updating value\n",
    "new_dict[1] = \"world\"\n",
    "print(new_dict)\n",
    "\n",
    "#adding value\n",
    "new_dict[4] = \"mmm\"\n",
    "print(new_dict)\n"
   ]
  },
  {
   "cell_type": "code",
   "execution_count": 71,
   "id": "758b5f66-b006-4a78-9c4c-06fc9d73fba2",
   "metadata": {},
   "outputs": [
    {
     "name": "stdout",
     "output_type": "stream",
     "text": [
      "{1: 1, 2: 4, 3: 9, 4: 16, 5: 25}\n",
      "16\n",
      "{1: 1, 2: 4, 3: 9, 5: 25}\n",
      "(5, 25)\n",
      "{1: 1, 2: 4, 3: 9}\n",
      "{2: 4, 3: 9}\n"
     ]
    }
   ],
   "source": [
    "#Creating new dictionary\n",
    "squares = {1:1, 2:4, 3:9, 4:16, 5:25}\n",
    "print(squares)\n",
    "\n",
    "#remove a particular item\n",
    "print(squares.pop(4))\n",
    "print(squares)\n",
    "\n",
    "#remove an arbitrary itam\n",
    "print(squares.popitem())\n",
    "print(squares)\n",
    "\n",
    "# del a particular item\n",
    "del squares[1]\n",
    "\n",
    "print(squares)"
   ]
  },
  {
   "cell_type": "code",
   "execution_count": 47,
   "id": "100261f2-bc4a-4444-aaf2-d6967c93a2d0",
   "metadata": {},
   "outputs": [
    {
     "name": "stdout",
     "output_type": "stream",
     "text": [
      "{0: 0, 1: 1, 2: 4, 3: 9, 4: 16, 5: 25}\n",
      "True\n",
      "False\n",
      "False\n"
     ]
    }
   ],
   "source": [
    "#Creating a new dictionary using Comprehension\n",
    "squares = {x:x*x for x in range (6)}\n",
    "print(squares)\n",
    "\n",
    "#Dictionary Membership test\n",
    "squares = {0: 0, 1: 1, 2: 4, 3: 9, 4: 16, 5: 25}\n",
    "\n",
    "print( 1 in squares)\n",
    "\n",
    "print( 2 not in squares)\n",
    "\n",
    "#membership tests for key only not value\n",
    "print(25 in squares)"
   ]
  },
  {
   "cell_type": "code",
   "execution_count": 61,
   "id": "80fb2e27-40d4-4e98-baa0-9844070379b2",
   "metadata": {},
   "outputs": [
    {
     "name": "stdout",
     "output_type": "stream",
     "text": [
      "1\n",
      "9\n",
      "25\n",
      "49\n",
      "81\n",
      "5\n",
      "[1, 3, 5, 7, 9]\n",
      "1\n"
     ]
    }
   ],
   "source": [
    "# Iterating through a dictionary\n",
    "squares = {1:1, 3:9, 5:25, 7:49, 9:81}\n",
    "for i in squares:\n",
    "    print(squares[i])\n",
    "\n",
    "\n",
    "#Using Buit-in functions in adictionary\n",
    "squares = {1:1, 3:9, 5:25, 7:49, 9:81}\n",
    "\n",
    "print(len(squares))             #prints the length of the dictionary\n",
    "\n",
    "print(sorted(squares))          #prints the dictionary in sorted order\n",
    "\n",
    "print((squares))  "
   ]
  },
  {
   "cell_type": "code",
   "execution_count": null,
   "id": "3d77e000-2fca-4199-ab71-79b9110f5df9",
   "metadata": {},
   "outputs": [],
   "source": []
  }
 ],
 "metadata": {
  "kernelspec": {
   "display_name": "Python 3 (ipykernel)",
   "language": "python",
   "name": "python3"
  },
  "language_info": {
   "codemirror_mode": {
    "name": "ipython",
    "version": 3
   },
   "file_extension": ".py",
   "mimetype": "text/x-python",
   "name": "python",
   "nbconvert_exporter": "python",
   "pygments_lexer": "ipython3",
   "version": "3.12.4"
  }
 },
 "nbformat": 4,
 "nbformat_minor": 5
}
