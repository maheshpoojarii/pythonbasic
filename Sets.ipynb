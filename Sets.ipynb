{
 "cells": [
  {
   "cell_type": "code",
   "execution_count": 37,
   "id": "5af20684-b127-4e87-b3d0-dc531dbbbba4",
   "metadata": {},
   "outputs": [
    {
     "name": "stdout",
     "output_type": "stream",
     "text": [
      "{1, 66, 99, 68, 44}\n",
      "{'apple', (11, 66, 77), 101}\n",
      "{1, 66, 99, 68, 44}\n"
     ]
    }
   ],
   "source": [
    "#creating sets\n",
    "#set of integers\n",
    "my_set1 = {1,44,66,68,99}\n",
    "print(my_set1)\n",
    "\n",
    "#set o mixed datatypes\n",
    "my_set2 = {101,\"apple\",(11,66,77)}\n",
    "print(my_set2)\n",
    "\n",
    "#duplicates values not allowed\n",
    "my_set3 = {1,44,66,68,99,99,1}\n",
    "print(my_set3)"
   ]
  },
  {
   "cell_type": "code",
   "execution_count": 21,
   "id": "bf3bd1c1-2868-48c3-9cb9-a9c1398d8a19",
   "metadata": {},
   "outputs": [
    {
     "name": "stdout",
     "output_type": "stream",
     "text": [
      "{1, 2, 3}\n",
      "<class 'set'>\n",
      "[33, 11, 44, 22]\n",
      "<class 'list'>\n"
     ]
    }
   ],
   "source": [
    "#set cannot have mutable items\n",
    "#my_set4={1,2,[3,4]}\n",
    "\n",
    "#we can take set from a list\n",
    "my_set5 = set([1,2,3,2])\n",
    "print(my_set5)\n",
    "print(type(my_set5))\n",
    "\n",
    "#we can make list from a set\n",
    "my_list1 = list({11,22,33,44})\n",
    "print(my_list1)\n",
    "print(type(my_list1))"
   ]
  },
  {
   "cell_type": "code",
   "execution_count": 53,
   "id": "4e9b578e-1cdb-47a3-bc7a-133fcf4cd901",
   "metadata": {},
   "outputs": [
    {
     "name": "stdout",
     "output_type": "stream",
     "text": [
      "{1, 66, 99, 68, 44}\n",
      "{1, 66, 99, 68, 101, 44}\n",
      "{1, 66, 68, 21, 88, 92, 99, 101, 44}\n",
      "{1, 66, 68, 5, 21, 88, 92, 222, 99, 100, 101, 44, 434, 312}\n"
     ]
    }
   ],
   "source": [
    "#operations on sets\n",
    "my_set1 = {1,44,66,68,99}\n",
    "print(my_set1)\n",
    "\n",
    "# 'set' object does not support indexing\n",
    "\n",
    "#my_set1[0]\n",
    "#add an element\n",
    "my_set1.add(101)\n",
    "print(my_set1)\n",
    "\n",
    "#add mulptiple elements\n",
    "my_set1.update([88,92,21])\n",
    "print(my_set1)\n",
    "\n",
    "#add list and set\n",
    "my_set1.update([100,312],{222,434,5})\n",
    "print(my_set1)"
   ]
  },
  {
   "cell_type": "code",
   "execution_count": 51,
   "id": "cbb88007-aa89-4ec7-98cf-e852eb7b892c",
   "metadata": {},
   "outputs": [
    {
     "name": "stdout",
     "output_type": "stream",
     "text": [
      "{1, 66, 99, 68, 44}\n",
      "{1, 66, 99, 68, 44}\n",
      "{1, 66, 99, 68, 44}\n",
      "{1, 66, 99, 68}\n",
      "{1, 66, 68}\n"
     ]
    }
   ],
   "source": [
    "#remove and discard\n",
    "#initialize my_set\n",
    "my_set1 = {1,44,66,68,99}\n",
    "print(my_set1)\n",
    "\n",
    "#discard an element which is not present,no error\n",
    "my_set1.discard(4)\n",
    "print(my_set1)\n",
    "\n",
    "#remove an element which is not present,no error\n",
    "#my_set1.remove(6)\n",
    "print(my_set1)\n",
    "\n",
    "#discard an elements\n",
    "my_set1.discard(44)\n",
    "print(my_set1)\n",
    "\n",
    "my_set1.remove(99)\n",
    "print(my_set1)\n"
   ]
  },
  {
   "cell_type": "code",
   "execution_count": 59,
   "id": "09ffacb0-0c81-4d9c-a86f-f4103de98cfd",
   "metadata": {},
   "outputs": [
    {
     "name": "stdout",
     "output_type": "stream",
     "text": [
      "{1, 66, 99, 68, 44}\n",
      "1\n",
      "66\n",
      "{99, 68, 44}\n",
      "set()\n"
     ]
    }
   ],
   "source": [
    "# using pop()\n",
    "#initialize my_set\n",
    "my_set1 = {1,44,66,68,99}\n",
    "print(my_set1)\n",
    "\n",
    "#pop an element\n",
    "print(my_set1.pop())\n",
    "\n",
    "#pop another element\n",
    "print(my_set1.pop())\n",
    "print(my_set1)\n",
    "\n",
    "#clear my_set\n",
    "my_set1.clear()\n",
    "print(my_set1)\n"
   ]
  },
  {
   "cell_type": "code",
   "execution_count": 77,
   "id": "e64dc45e-5165-4d7b-a3d8-be889d100c1c",
   "metadata": {},
   "outputs": [
    {
     "name": "stdout",
     "output_type": "stream",
     "text": [
      "{0, 1, 2, 3, 4, 5, 6, 8, 9, 21}\n",
      "{2, 3, 4, 5, 21, 9}\n",
      "{0, 1, 2, 3, 4, 5, 6, 8, 9, 21}\n",
      "{0, 1, 2, 3, 4, 5, 6, 8, 9, 21}\n",
      "{0, 1, 2, 3, 4, 5, 6, 8, 9, 21}\n",
      "{0, 1, 2, 3, 4, 5, 6, 8, 9, 21}\n"
     ]
    }
   ],
   "source": [
    "#set operation - union\n",
    "myset1 = {0,1,2,3,5,6,8,4,9,21}\n",
    "myset2 = {9,4,2,4,21,3,4,5}\n",
    "print(myset1)\n",
    "print(myset2)\n",
    "\n",
    "#use | operator for union\n",
    "print(myset1 | myset2)\n",
    "print(myset2 | myset1)\n",
    "print(myset1.union(myset2))\n",
    "print(myset2.union(myset1))\n",
    "\n"
   ]
  },
  {
   "cell_type": "code",
   "execution_count": 79,
   "id": "9824c44a-a555-4db3-9e4c-3b25df31c019",
   "metadata": {},
   "outputs": [
    {
     "name": "stdout",
     "output_type": "stream",
     "text": [
      "{0, 1, 2, 3, 4, 5, 6, 8, 9, 21}\n",
      "{2, 3, 4, 5, 21, 9}\n",
      "{2, 3, 4, 5, 9, 21}\n",
      "{2, 3, 4, 5, 9, 21}\n",
      "{2, 3, 4, 5, 9, 21}\n",
      "{2, 3, 4, 5, 9, 21}\n"
     ]
    }
   ],
   "source": [
    "#set operation - intersection\n",
    "myset1 = {0,1,2,3,5,6,8,4,9,21}\n",
    "myset2 = {9,4,2,4,21,3,4,5}\n",
    "print(myset1)\n",
    "print(myset2)\n",
    "\n",
    "#use & operator for intersection\n",
    "print(myset1 & myset2)\n",
    "print(myset2 & myset1)\n",
    "print(myset1.intersection(myset2))\n",
    "print(myset2.intersection(myset1))"
   ]
  },
  {
   "cell_type": "code",
   "execution_count": 86,
   "id": "3aef9a07-2b7d-4cba-b57b-90713d85488b",
   "metadata": {},
   "outputs": [
    {
     "name": "stdout",
     "output_type": "stream",
     "text": [
      "{0, 1, 2, 3, 4, 5, 6, 8, 9, 21}\n",
      "{2, 3, 4, 5, 21, 56, 9}\n",
      "{0, 1, 6, 8}\n",
      "{56}\n",
      "{0, 1, 6, 8}\n",
      "{56}\n"
     ]
    }
   ],
   "source": [
    "#set operation - difference\n",
    "myset1 = {0,1,2,3,5,6,8,4,9,21}\n",
    "myset2 = {9,4,2,4,21,3,4,5,56}\n",
    "print(myset1)\n",
    "print(myset2)\n",
    "\n",
    "#use - operator for intersection\n",
    "print(myset1 - myset2)\n",
    "print(myset2 - myset1)\n",
    "print(myset1.difference(myset2))\n",
    "print(myset2.difference(myset1))"
   ]
  },
  {
   "cell_type": "code",
   "execution_count": 90,
   "id": "8a0b3203-f07b-4e9c-9be8-68b2538883db",
   "metadata": {},
   "outputs": [
    {
     "name": "stdout",
     "output_type": "stream",
     "text": [
      "{0, 1, 2, 3, 4, 5, 6, 8, 9, 21}\n",
      "{2, 3, 4, 5, 21, 56, 9}\n",
      "{0, 1, 6, 8, 56}\n",
      "{0, 1, 6, 8, 56}\n",
      "{0, 1, 6, 8, 56}\n",
      "{0, 1, 6, 8, 56}\n"
     ]
    }
   ],
   "source": [
    "#set operation - symmetric difference\n",
    "myset1 = {0,1,2,3,5,6,8,4,9,21}\n",
    "myset2 = {9,4,2,4,21,3,4,5,56}\n",
    "print(myset1)\n",
    "print(myset2)\n",
    "\n",
    "#use ^ operator for intersection\n",
    "print(myset1 ^ myset2)\n",
    "print(myset2 ^ myset1)\n",
    "print(myset1.symmetric_difference(myset2))\n",
    "print(myset2.symmetric_difference(myset1))"
   ]
  },
  {
   "cell_type": "code",
   "execution_count": 94,
   "id": "3f017acd-998a-4fba-9f4d-30332c7f987c",
   "metadata": {},
   "outputs": [
    {
     "name": "stdout",
     "output_type": "stream",
     "text": [
      "True\n",
      "True\n",
      "False\n",
      "False\n"
     ]
    }
   ],
   "source": [
    "#set membership\n",
    "myset1 = {0,1,2,3,5,6,8,4,9,21}\n",
    "print(2 in myset1)\n",
    "print(6 in myset1)\n",
    "print(2 not in myset1)\n",
    "print(2 not in myset1)"
   ]
  },
  {
   "cell_type": "code",
   "execution_count": 102,
   "id": "bb797c2e-bab9-4361-bd0a-7417a9793b19",
   "metadata": {},
   "outputs": [
    {
     "name": "stdout",
     "output_type": "stream",
     "text": [
      "w\n",
      "c\n",
      "m\n",
      "e\n",
      "l\n",
      "o\n"
     ]
    }
   ],
   "source": [
    "#iterating throug a set\n",
    "for letter in set(\"welcome\"):\n",
    "    print(letter)"
   ]
  },
  {
   "cell_type": "code",
   "execution_count": 112,
   "id": "4dc2b173-e6c7-4372-998a-03a00306c63b",
   "metadata": {},
   "outputs": [
    {
     "name": "stdout",
     "output_type": "stream",
     "text": [
      "21\n",
      "0\n",
      "59\n",
      "10\n"
     ]
    }
   ],
   "source": [
    "#built-in fuction with set\n",
    "myset1 = {0,1,2,3,5,6,8,4,9,21}\n",
    "print(max(myset1))\n",
    "print(min(myset1))\n",
    "print(sum(myset1))\n",
    "print(len(myset1))"
   ]
  },
  {
   "cell_type": "code",
   "execution_count": 122,
   "id": "7a2049c2-6c85-4c71-86e8-3e82cf981c08",
   "metadata": {},
   "outputs": [
    {
     "name": "stdout",
     "output_type": "stream",
     "text": [
      "frozenset({0, 1, 2, 3, 4, 5, 6, 8, 9, 21})\n",
      "frozenset({2, 3, 4, 5, 9, 21, 56})\n",
      "frozenset({0, 1, 6, 8})\n",
      "frozenset({0, 1, 2, 3, 4, 5, 6, 8, 9, 21, 56})\n",
      "frozenset({2, 3, 4, 5, 9, 21})\n",
      "frozenset({0, 1, 6, 8, 56})\n"
     ]
    }
   ],
   "source": [
    "#python frozenset\n",
    "# frozenset is anew class that has the characteristics\n",
    "# of a set,but its elements cannot be changed once assigned.\n",
    "#While tuples are immutable lists,frozensets are immutable sets\n",
    "myset1 = frozenset ([0,1,2,3,5,6,8,4,9,21])\n",
    "myset2 = frozenset ([9,4,2,4,21,3,4,5,56])\n",
    "print(myset1)\n",
    "print(myset2)\n",
    "print(myset1.difference(myset2))\n",
    "print(myset1.union(myset2))\n",
    "print(myset1.intersection(myset2))\n",
    "print(myset1.symmetric_difference(myset2))\n",
    "#myset1.add(10)"
   ]
  },
  {
   "cell_type": "code",
   "execution_count": null,
   "id": "981cb0a4-c00d-4155-a389-6d03602981eb",
   "metadata": {},
   "outputs": [],
   "source": []
  }
 ],
 "metadata": {
  "kernelspec": {
   "display_name": "Python 3 (ipykernel)",
   "language": "python",
   "name": "python3"
  },
  "language_info": {
   "codemirror_mode": {
    "name": "ipython",
    "version": 3
   },
   "file_extension": ".py",
   "mimetype": "text/x-python",
   "name": "python",
   "nbconvert_exporter": "python",
   "pygments_lexer": "ipython3",
   "version": "3.12.4"
  }
 },
 "nbformat": 4,
 "nbformat_minor": 5
}
