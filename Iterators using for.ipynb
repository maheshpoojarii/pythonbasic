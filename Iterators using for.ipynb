{
 "cells": [
  {
   "cell_type": "code",
   "execution_count": 1,
   "id": "3b85c5d0-94ad-4525-ac5b-869c8dd6c6f2",
   "metadata": {},
   "outputs": [
    {
     "name": "stdout",
     "output_type": "stream",
     "text": [
      "1\n",
      "hellow\n",
      "2\n",
      "hellow\n",
      "3\n",
      "hellow\n",
      "4\n",
      "hellow\n",
      "5\n",
      "hellow\n"
     ]
    }
   ],
   "source": [
    "#primintg all the elements present in a set\n",
    "a = [1,2,3,4,5]\n",
    "for i in a:\n",
    "    print(i)\n",
    "    print(\"hellow\")"
   ]
  },
  {
   "cell_type": "code",
   "execution_count": 5,
   "id": "2f4cc149-13b2-476f-a905-6ce241320b9f",
   "metadata": {},
   "outputs": [
    {
     "name": "stdout",
     "output_type": "stream",
     "text": [
      "1\n",
      "2\n",
      "3\n",
      "4\n"
     ]
    }
   ],
   "source": [
    "#Using rangein for loop\n",
    "for i in range(1,5):\n",
    "    print(i)\n",
    "    #print(\"Hellow\")"
   ]
  },
  {
   "cell_type": "code",
   "execution_count": 19,
   "id": "48bbadd3-8793-4a84-bfcd-3bc4806adeb0",
   "metadata": {},
   "outputs": [
    {
     "name": "stdout",
     "output_type": "stream",
     "text": [
      "1\n",
      "33\n",
      "55\n",
      "6\n",
      "74\n",
      "7\n",
      "Printing completd!\n"
     ]
    }
   ],
   "source": [
    "#Using for loop printing the values present in the\n",
    "#tuples and using the else command in the  for loop\n",
    "b = (1,33,55,6,74,7)\n",
    "for i in b:\n",
    "    print(i)\n",
    "else:\n",
    "    print(\"Printing completd!\")\n",
    "\n"
   ]
  },
  {
   "cell_type": "code",
   "execution_count": null,
   "id": "e78280da-4aed-47ec-923d-61d74c84a661",
   "metadata": {},
   "outputs": [],
   "source": []
  }
 ],
 "metadata": {
  "kernelspec": {
   "display_name": "Python 3 (ipykernel)",
   "language": "python",
   "name": "python3"
  },
  "language_info": {
   "codemirror_mode": {
    "name": "ipython",
    "version": 3
   },
   "file_extension": ".py",
   "mimetype": "text/x-python",
   "name": "python",
   "nbconvert_exporter": "python",
   "pygments_lexer": "ipython3",
   "version": "3.12.4"
  }
 },
 "nbformat": 4,
 "nbformat_minor": 5
}
