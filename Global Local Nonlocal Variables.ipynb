{
 "cells": [
  {
   "cell_type": "code",
   "execution_count": 5,
   "id": "ae1f3783-a3fb-401d-b24c-3dd64ae5a39b",
   "metadata": {},
   "outputs": [
    {
     "name": "stdout",
     "output_type": "stream",
     "text": [
      "Global x = global\n",
      "Local\n",
      "globalglobalglobal\n",
      "Global x = globalglobalglobal\n"
     ]
    }
   ],
   "source": [
    "#Global and Local variable with different name\n",
    "\n",
    "x = \"global\"                    # Global variable can be accessed from anywhere\n",
    "def funt1():\n",
    "    global x\n",
    "    y = \"Local\"\n",
    "    x = x*3\n",
    "    print(y)\n",
    "    print(x)\n",
    "\n",
    "print('Global x =',x)\n",
    "funt1()\n",
    "print('Global x =',x)\n"
   ]
  },
  {
   "cell_type": "code",
   "execution_count": 13,
   "id": "026ce212-3645-4fc0-a6f6-71bcca884ecb",
   "metadata": {},
   "outputs": [
    {
     "name": "stdout",
     "output_type": "stream",
     "text": [
      "global =  5\n",
      "local =  10\n",
      "global =  5\n"
     ]
    }
   ],
   "source": [
    "#Global and Local variable with same name\n",
    "a= 5\n",
    "def funt2():                # local variable can be accessed from the block where it is defined only\n",
    "    a = 10\n",
    "    print('local = ',a)\n",
    "\n",
    "print('global = ',a)\n",
    "funt2()\n",
    "print('global = ',a)\n"
   ]
  },
  {
   "cell_type": "code",
   "execution_count": 15,
   "id": "3829ef43-d0af-40ae-91f6-f06e0ee7966c",
   "metadata": {},
   "outputs": [
    {
     "name": "stdout",
     "output_type": "stream",
     "text": [
      "inner =  non local\n",
      "outer =  local\n"
     ]
    }
   ],
   "source": [
    "#creating an using nonlocal variable\n",
    "def outer():\n",
    "    x = \"local\"\n",
    "    def inner():\n",
    "        #nonlocal x          # Non local variable are used in nested function\n",
    "        x = 'non local'\n",
    "        print('inner = ',x)\n",
    "    inner()\n",
    "    print('outer = ',x)\n",
    "\n",
    "outer()\n"
   ]
  },
  {
   "cell_type": "code",
   "execution_count": null,
   "id": "08283170-e876-4dc2-92bf-d88acd8eb10c",
   "metadata": {},
   "outputs": [],
   "source": []
  }
 ],
 "metadata": {
  "kernelspec": {
   "display_name": "Python 3 (ipykernel)",
   "language": "python",
   "name": "python3"
  },
  "language_info": {
   "codemirror_mode": {
    "name": "ipython",
    "version": 3
   },
   "file_extension": ".py",
   "mimetype": "text/x-python",
   "name": "python",
   "nbconvert_exporter": "python",
   "pygments_lexer": "ipython3",
   "version": "3.12.4"
  }
 },
 "nbformat": 4,
 "nbformat_minor": 5
}
