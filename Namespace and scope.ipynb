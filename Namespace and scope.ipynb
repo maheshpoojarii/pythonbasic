{
 "cells": [
  {
   "cell_type": "code",
   "execution_count": 15,
   "id": "81d96c95-ab67-44ef-8009-e90fa5e495bf",
   "metadata": {},
   "outputs": [
    {
     "name": "stdout",
     "output_type": "stream",
     "text": [
      "id(2) = 140719619324376\n",
      "id(a) = 140719619324376\n",
      "id(a) = 140719619324376\n",
      "id(a) = 140719619324408\n",
      "id(3) = 140719619324408\n",
      "id(2) = 140719619324376\n"
     ]
    }
   ],
   "source": [
    "#Name  (also called identifier) is simply a name given to objects\n",
    "\n",
    "#We can get the address (in RAM) of some object through the built-in fuction,id().\n",
    "#Note : You get diffrent value of id\n",
    "\n",
    "a = 2\n",
    "#Output: id(2)= 10919424\n",
    "print('id(2) =',id(a))\n",
    "\n",
    "#Output: id(a)= 10919424\n",
    "print('id(a) =',id(a))\n",
    "\n",
    "a = a\n",
    "#Output: id(a)= 10919424\n",
    "print('id(a) =',id(a))\n",
    "\n",
    "a = a+1\n",
    "#Output: id(a)= 10919456\n",
    "print('id(a) =',id(a))\n",
    "\n",
    "#Output: id(3)= 10919424\n",
    "print('id(3) =',id(3))\n",
    "\n",
    "b = 2\n",
    "#Output: id(2)= 10919424\n",
    "print('id(2) =',id(b))"
   ]
  },
  {
   "cell_type": "code",
   "execution_count": 31,
   "id": "8a9486b2-e815-4c4d-bf56-58c6731762fb",
   "metadata": {},
   "outputs": [
    {
     "name": "stdout",
     "output_type": "stream",
     "text": [
      "a = 10\n",
      "a = 40\n",
      "a = 40\n",
      "a = 40\n"
     ]
    }
   ],
   "source": [
    "#Scope\n",
    "def outer_function():\n",
    "    global a\n",
    "    a = 30\n",
    "    def inner_fuction():\n",
    "        global a\n",
    "        a = 40\n",
    "        print('a =',a)\n",
    "    inner_fuction()\n",
    "    print('a =',a)\n",
    "\n",
    "a = 10\n",
    "print('a =',a)\n",
    "outer_function()\n",
    "print('a =',a)\n"
   ]
  },
  {
   "cell_type": "code",
   "execution_count": null,
   "id": "52aa0c93-1f13-4734-b8af-78864e238190",
   "metadata": {},
   "outputs": [],
   "source": []
  }
 ],
 "metadata": {
  "kernelspec": {
   "display_name": "Python 3 (ipykernel)",
   "language": "python",
   "name": "python3"
  },
  "language_info": {
   "codemirror_mode": {
    "name": "ipython",
    "version": 3
   },
   "file_extension": ".py",
   "mimetype": "text/x-python",
   "name": "python",
   "nbconvert_exporter": "python",
   "pygments_lexer": "ipython3",
   "version": "3.12.4"
  }
 },
 "nbformat": 4,
 "nbformat_minor": 5
}
