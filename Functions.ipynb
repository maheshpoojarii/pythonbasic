{
 "cells": [
  {
   "cell_type": "code",
   "execution_count": 19,
   "id": "a38cf49f-f932-4d71-a953-7f3b9705923c",
   "metadata": {},
   "outputs": [
    {
     "name": "stdout",
     "output_type": "stream",
     "text": [
      "Hello! I love to code python.\n",
      "Hello! I love to code python.\n",
      "\n",
      "    This is a\n",
      "    multiline\n",
      "    text\n"
     ]
    }
   ],
   "source": [
    "def hello(): # Function without a return statement\n",
    "    print(\"Hello! I love to code python.\")\n",
    "\n",
    "\n",
    "def hello1():\n",
    "    '''\n",
    "    This is a\n",
    "    multiline\n",
    "    text'''\n",
    "    return \"Hello! I love to code python.\"\n",
    "    #Return commands returns back the control to the\n",
    "    # mainly used to return a value to the caller of the function\n",
    "\n",
    "hello()\n",
    "print(hello1())\n",
    "print(hello1.__doc__)"
   ]
  },
  {
   "cell_type": "code",
   "execution_count": 35,
   "id": "3df1e543-3aba-4e9e-9012-4610c5d6206a",
   "metadata": {},
   "outputs": [
    {
     "name": "stdout",
     "output_type": "stream",
     "text": [
      "mymanu...\n",
      "1 > addition operation...\n",
      "2 > substraction operation...\n",
      "3 > multipliction operation...\n",
      "4 > division operation...\n"
     ]
    },
    {
     "name": "stdin",
     "output_type": "stream",
     "text": [
      "please enter your option.. 4\n",
      "please enter first option.. 99\n",
      "please enter second option.. 33\n"
     ]
    },
    {
     "name": "stdout",
     "output_type": "stream",
     "text": [
      "Performing the division operation..\n",
      "So result =  3.0\n"
     ]
    }
   ],
   "source": [
    "def myAddition(x,y):\n",
    "    print(\"Performing the addition operation..\")\n",
    "    return(x+y)\n",
    "\n",
    "def mySubstraction(x,y):\n",
    "    print(\"Performing the substraction operation..\")\n",
    "    return(x-y)\n",
    "\n",
    "def myMultiplicatin(x,y):\n",
    "    print(\"Performing the multiplication operation..\")\n",
    "    return(x*y)\n",
    "\n",
    "def myDivision(x,y):\n",
    "    print(\"Performing the division operation..\")\n",
    "    return(x/y)\n",
    "\n",
    "def myManu():\n",
    "    print(\"mymanu...\")\n",
    "    print(\"1 > addition operation...\")\n",
    "    print(\"2 > substraction operation...\")\n",
    "    print(\"3 > multipliction operation...\")\n",
    "    print(\"4 > division operation...\")\n",
    "    ch = int(input(\"please enter your option..\"))\n",
    "    return ch\n",
    "    \n",
    "def calc():\n",
    "    ch = myManu()\n",
    "    num1 = int(input(\"please enter first option..\"))\n",
    "    num2 = int(input(\"please enter second option..\"))\n",
    "    if ch == 1:\n",
    "        result = myAddition(num1,num2)\n",
    "\n",
    "    elif ch == 2:\n",
    "        result = mySubstraction(num1,num2)\n",
    "\n",
    "    elif ch == 3:\n",
    "        result = myMultiplicatin(num1,num2)\n",
    "\n",
    "    elif ch == 4:\n",
    "        result = myDivision(num1,num2)\n",
    "    print(\"So result = \",result)\n",
    "\n",
    "calc()\n",
    "        \n",
    "\n",
    "\n",
    "        \n",
    "    \n",
    "\n"
   ]
  },
  {
   "cell_type": "code",
   "execution_count": 39,
   "id": "b8d86650-b980-4d43-ba23-8384ec6c978c",
   "metadata": {},
   "outputs": [
    {
     "name": "stdout",
     "output_type": "stream",
     "text": [
      "mymanu...\n",
      "1 > addition operation...\n",
      "2 > substraction operation...\n",
      "3 > multipliction operation...\n",
      "4 > division operation...\n"
     ]
    },
    {
     "name": "stdin",
     "output_type": "stream",
     "text": [
      "please enter your option.. 1\n",
      "please enter first option.. 2\n",
      "please enter second option.. 4\n"
     ]
    },
    {
     "name": "stdout",
     "output_type": "stream",
     "text": [
      "Performing the addition operation..\n",
      "So result =  6\n"
     ]
    }
   ],
   "source": [
    "def myAddition(x,y):\n",
    "    print(\"Performing the addition operation..\")\n",
    "    return(x+y)\n",
    "\n",
    "def mySubstraction(x,y):\n",
    "    print(\"Performing the substraction operation..\")\n",
    "    return(x-y)\n",
    "\n",
    "def myMultiplicatin(x,y):\n",
    "    print(\"Performing the multiplication operation..\")\n",
    "    return(x*y)\n",
    "\n",
    "def myDivision(x,y):\n",
    "    print(\"Performing the division operation..\")\n",
    "    return(x/y)\n",
    "\n",
    "def myManu():\n",
    "    print(\"mymanu...\")\n",
    "    print(\"1 > addition operation...\")\n",
    "    print(\"2 > substraction operation...\")\n",
    "    print(\"3 > multipliction operation...\")\n",
    "    print(\"4 > division operation...\")\n",
    "    ch = int(input(\"please enter your option..\"))\n",
    "    return ch\n",
    "ch = myManu()\n",
    "    \n",
    "def calc():\n",
    "    #ch = myManu()\n",
    "    num1 = int(input(\"please enter first option..\"))\n",
    "    num2 = int(input(\"please enter second option..\"))\n",
    "    if ch == 1:\n",
    "        result = myAddition(num1,num2)\n",
    "\n",
    "    elif ch == 2:\n",
    "        result = mySubstraction(num1,num2)\n",
    "\n",
    "    elif ch == 3:\n",
    "        result = myMultiplicatin(num1,num2)\n",
    "\n",
    "    elif ch == 4:\n",
    "        result = myDivision(num1,num2)\n",
    "    print(\"So result = \",result)\n",
    "\n",
    "calc()"
   ]
  },
  {
   "cell_type": "code",
   "execution_count": null,
   "id": "878017f9-1100-42d9-af9d-e697863d6d4b",
   "metadata": {},
   "outputs": [],
   "source": []
  }
 ],
 "metadata": {
  "kernelspec": {
   "display_name": "Python 3 (ipykernel)",
   "language": "python",
   "name": "python3"
  },
  "language_info": {
   "codemirror_mode": {
    "name": "ipython",
    "version": 3
   },
   "file_extension": ".py",
   "mimetype": "text/x-python",
   "name": "python",
   "nbconvert_exporter": "python",
   "pygments_lexer": "ipython3",
   "version": "3.12.4"
  }
 },
 "nbformat": 4,
 "nbformat_minor": 5
}
