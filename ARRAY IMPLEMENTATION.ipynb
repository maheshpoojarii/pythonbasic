{
 "cells": [
  {
   "cell_type": "code",
   "execution_count": 3,
   "id": "6ac72118-ac1d-4e8a-8657-6995e4505707",
   "metadata": {},
   "outputs": [
    {
     "name": "stdout",
     "output_type": "stream",
     "text": [
      "[10, 20, 30, 40, 50]\n",
      "10\n",
      "20\n",
      "30\n",
      "50\n",
      "40\n"
     ]
    }
   ],
   "source": [
    "# Defining and declaring  and arry\n",
    "arr=[10,20,30,40,50]\n",
    "print(arr)\n",
    "\n",
    "#Accessing array elements\n",
    "print(arr[0])\n",
    "print(arr[1])\n",
    "print(arr[2])\n",
    "print(arr[-1])  #Negative Indexing\n",
    "print(arr[-2])  #Negative Indexing"
   ]
  },
  {
   "cell_type": "code",
   "execution_count": 25,
   "id": "ca794baf-f87d-4728-b6fb-c5812aae7444",
   "metadata": {},
   "outputs": [
    {
     "name": "stdout",
     "output_type": "stream",
     "text": [
      "['apple', 'samsung', 'google', 'toyota', 'coke']\n",
      "5\n",
      "['apple', 'samsung', 'google', 'toyota', 'coke', 'intel']\n"
     ]
    }
   ],
   "source": [
    "brands=[\"apple\",\"samsung\",\"google\",\"toyota\",\"coke\"]\n",
    "print(brands)\n",
    "\n",
    "#Finding the length of the array\n",
    "newbrands=len(brands)\n",
    "print(newbrands)\n",
    "\n",
    "#Adding an element to an array using append()\n",
    "brands.append(\"intel\")\n",
    "print(brands)"
   ]
  },
  {
   "cell_type": "code",
   "execution_count": 56,
   "id": "72efb5e3-2f1e-469e-b0ef-cf53c84cfe8b",
   "metadata": {},
   "outputs": [
    {
     "name": "stdout",
     "output_type": "stream",
     "text": [
      "['apple', 'samsung', 'google', 'toyota', 'coke', 'h&m', 'zara']\n",
      "['apple', 'samsung', 'google', 'toyota', 'h&m', 'zara']\n",
      "['apple', 'samsung', 'toyota', 'h&m', 'zara']\n",
      "['apple', 'samsung', 'toyota', 'zara']\n"
     ]
    }
   ],
   "source": [
    "#Modifying elements of an array using indexing\n",
    "brands=[\"apple\",\"samsung\",\"google\",\"toyota\",\"coke\",\"h&m\",\"zara\"]\n",
    "print(brands)\n",
    "\n",
    "del brands[4]\n",
    "print(brands)\n",
    "\n",
    "brands.remove(\"google\")\n",
    "print(brands)\n",
    "\n",
    "brands.pop(3)\n",
    "print(brands)\n"
   ]
  },
  {
   "cell_type": "code",
   "execution_count": 60,
   "id": "15faee95-86a6-4a1a-b0e7-bc5f2decf086",
   "metadata": {},
   "outputs": [
    {
     "name": "stdout",
     "output_type": "stream",
     "text": [
      "['mango', 'pineapple', 'apple', 'guava']\n"
     ]
    }
   ],
   "source": [
    "#Modifying elements of an array using indexing\n",
    "fruits=[\"mango\",\"banana\",\"apple\",\"oranage\"]\n",
    "fruits[1]=\"pineapple\"\n",
    "fruits[-1]=\"guava\"\n",
    "print(fruits)"
   ]
  },
  {
   "cell_type": "code",
   "execution_count": 68,
   "id": "3788dc08-d07c-4709-a362-5dc48aff6a81",
   "metadata": {},
   "outputs": [
    {
     "name": "stdout",
     "output_type": "stream",
     "text": [
      "[1, 2, 3]\n",
      "[1, 2, 3, 4, 5, 6]\n"
     ]
    }
   ],
   "source": [
    "#Concatenating two array usinf + operator\n",
    "concat = [1,2,3]\n",
    "print(concat)\n",
    "concat=concat + [4,5,6]\n",
    "print(concat)"
   ]
  },
  {
   "cell_type": "code",
   "execution_count": 74,
   "id": "3b00945f-6240-48ae-a1ca-1a7c77992823",
   "metadata": {},
   "outputs": [
    {
     "name": "stdout",
     "output_type": "stream",
     "text": [
      "[6, 6, 6, 6, 6, 6]\n"
     ]
    }
   ],
   "source": [
    "#Repeating element in an array\n",
    "repeat=[6]\n",
    "repeat=repeat *6\n",
    "print(repeat)"
   ]
  },
  {
   "cell_type": "code",
   "execution_count": 78,
   "id": "2c1392ce-aa3a-4be6-a091-8d6ff59d0301",
   "metadata": {},
   "outputs": [
    {
     "name": "stdout",
     "output_type": "stream",
     "text": [
      "['samsung', 'google', 'toyota']\n",
      "['apple', 'samsung', 'google']\n",
      "['toyota']\n",
      "['toyota', 'coke', 'h&m', 'zara']\n",
      "['coke', 'h&m']\n"
     ]
    }
   ],
   "source": [
    "#Slicing of an array\n",
    "brands=[\"apple\",\"samsung\",\"google\",\"toyota\",\"coke\",\"h&m\",\"zara\"]\n",
    "print(brands[1:4])\n",
    "print(brands[:3])\n",
    "print(brands[3:4])\n",
    "print(brands[-4:])\n",
    "print(brands[-3:-1])"
   ]
  },
  {
   "cell_type": "code",
   "execution_count": 82,
   "id": "61ebe7bb-db74-4f4d-bc6f-048c31048731",
   "metadata": {},
   "outputs": [
    {
     "name": "stdout",
     "output_type": "stream",
     "text": [
      "[[1, 2], [3, 4], [5, 6], [7, 8]]\n",
      "[1, 2]\n",
      "[7, 8]\n",
      "6\n",
      "7\n"
     ]
    }
   ],
   "source": [
    "#Declaring and defining=g multidimentional array\n",
    "multd=[[1,2],[3,4],[5,6],[7,8]]\n",
    "print(multd)\n",
    "print(multd[0])\n",
    "print(multd[3])\n",
    "print(multd[2][1])\n",
    "print(multd[3][0])"
   ]
  },
  {
   "cell_type": "code",
   "execution_count": null,
   "id": "9205a536-8e89-4acc-b78a-1f2fdfb9aae1",
   "metadata": {},
   "outputs": [],
   "source": []
  }
 ],
 "metadata": {
  "kernelspec": {
   "display_name": "Python 3 (ipykernel)",
   "language": "python",
   "name": "python3"
  },
  "language_info": {
   "codemirror_mode": {
    "name": "ipython",
    "version": 3
   },
   "file_extension": ".py",
   "mimetype": "text/x-python",
   "name": "python",
   "nbconvert_exporter": "python",
   "pygments_lexer": "ipython3",
   "version": "3.12.4"
  }
 },
 "nbformat": 4,
 "nbformat_minor": 5
}
