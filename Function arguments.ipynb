{
 "cells": [
  {
   "cell_type": "code",
   "execution_count": 3,
   "id": "3401839f-a5e7-4dac-a604-20b3d447519e",
   "metadata": {},
   "outputs": [
    {
     "name": "stdout",
     "output_type": "stream",
     "text": [
      "Max number between 10 and 20 is  20\n"
     ]
    }
   ],
   "source": [
    "def findMax (a,b):            # function taking arguments and returning a value\n",
    "    if a>b:\n",
    "        return a\n",
    "    else:\n",
    "        return b\n",
    "\n",
    "print(\"Max number between 10 and 20 is \",findMax(10,20))"
   ]
  },
  {
   "cell_type": "code",
   "execution_count": 35,
   "id": "8c4a22f2-796a-4942-8a5e-5d0247661ea0",
   "metadata": {},
   "outputs": [
    {
     "name": "stdout",
     "output_type": "stream",
     "text": [
      "hello mahi ,have a nice day\n",
      "hello mahi ,how are you?\n"
     ]
    }
   ],
   "source": [
    "def hello(name,msg = \",how are you?\"): #FUNCTION with default parameter\n",
    "    print(\"hello\",name,msg)\n",
    "\n",
    "hello(\"mahi\",\",have a nice day\")\n",
    "hello(\"mahi\")"
   ]
  },
  {
   "cell_type": "code",
   "execution_count": 60,
   "id": "8d62acf6-5e90-4b89-8712-92b405f359d5",
   "metadata": {},
   "outputs": [
    {
     "name": "stdout",
     "output_type": "stream",
     "text": [
      "Sum of all integer between 2-5 is 14\n"
     ]
    }
   ],
   "source": [
    "def sumAll(*args):          #function with arbitrary arguments\n",
    "    sum = 0\n",
    "    for i in args:\n",
    "        sum += i\n",
    "    return sum\n",
    "\n",
    "print(\"Sum of all integer between 2-5 is\",sumAll(2,3,4,5))\n",
    "\n",
    "    "
   ]
  },
  {
   "cell_type": "code",
   "execution_count": 46,
   "id": "07d7e526-846a-41e5-9cdb-1c54fe6f36ff",
   "metadata": {},
   "outputs": [
    {
     "name": "stdout",
     "output_type": "stream",
     "text": [
      "a = 12, b = 33,c = 44\n"
     ]
    }
   ],
   "source": [
    "def default(a,b,c):\n",
    "    print(\"a = {}, b = {},c = {}\".format(a,b,c))\n",
    "\n",
    "default(12,33,44)"
   ]
  },
  {
   "cell_type": "code",
   "execution_count": null,
   "id": "73b328de-f13f-4210-887c-c829a692b551",
   "metadata": {},
   "outputs": [],
   "source": []
  }
 ],
 "metadata": {
  "kernelspec": {
   "display_name": "Python 3 (ipykernel)",
   "language": "python",
   "name": "python3"
  },
  "language_info": {
   "codemirror_mode": {
    "name": "ipython",
    "version": 3
   },
   "file_extension": ".py",
   "mimetype": "text/x-python",
   "name": "python",
   "nbconvert_exporter": "python",
   "pygments_lexer": "ipython3",
   "version": "3.12.4"
  }
 },
 "nbformat": 4,
 "nbformat_minor": 5
}
