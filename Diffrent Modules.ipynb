{
 "cells": [
  {
   "cell_type": "code",
   "execution_count": 7,
   "id": "a70bae4c-c036-4184-a32f-bedeee7f2304",
   "metadata": {},
   "outputs": [
    {
     "name": "stdout",
     "output_type": "stream",
     "text": [
      "The value of pi is 3.141592653589793\n"
     ]
    }
   ],
   "source": [
    "#Importing module aswell as renaming it\n",
    "import math as m\n",
    "\n",
    "print(\"The value of pi is\",m.pi)"
   ]
  },
  {
   "cell_type": "code",
   "execution_count": 9,
   "id": "36de24fe-6e01-465d-a27a-dacb33e4d5a4",
   "metadata": {},
   "outputs": [
    {
     "name": "stdout",
     "output_type": "stream",
     "text": [
      "The value of pi is 3.141592653589793\n"
     ]
    }
   ],
   "source": [
    "#Useage of from\n",
    "from math import pi\n",
    "print(\"The value of pi is\",pi)"
   ]
  },
  {
   "cell_type": "code",
   "execution_count": null,
   "id": "7399d21f-5760-453f-b58e-1dc415be44dc",
   "metadata": {},
   "outputs": [],
   "source": [
    "#import all names from the standard module math\n",
    "\n",
    "print(\"The value of pi is\",pi)"
   ]
  }
 ],
 "metadata": {
  "kernelspec": {
   "display_name": "Python 3 (ipykernel)",
   "language": "python",
   "name": "python3"
  },
  "language_info": {
   "codemirror_mode": {
    "name": "ipython",
    "version": 3
   },
   "file_extension": ".py",
   "mimetype": "text/x-python",
   "name": "python",
   "nbconvert_exporter": "python",
   "pygments_lexer": "ipython3",
   "version": "3.12.4"
  }
 },
 "nbformat": 4,
 "nbformat_minor": 5
}
