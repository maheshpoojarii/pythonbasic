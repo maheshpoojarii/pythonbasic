{
 "cells": [
  {
   "cell_type": "code",
   "execution_count": 19,
   "id": "6777d0a7-13b9-4fb9-9023-1a868226f10d",
   "metadata": {},
   "outputs": [
    {
     "name": "stdin",
     "output_type": "stream",
     "text": [
      "pleaxe enter the first number... -90\n",
      "please enter the second number... 8\n"
     ]
    },
    {
     "name": "stdout",
     "output_type": "stream",
     "text": [
      "The data is not in range\n"
     ]
    }
   ],
   "source": [
    "#Catching specific exception\n",
    "\n",
    "try:\n",
    "    a = int(input(\"pleaxe enter the first number...\"))\n",
    "    b = int(input(\"please enter the second number...\"))\n",
    "    c = x/y\n",
    "    if (a<0):\n",
    "        raise TypeError\n",
    "    print(\"{} / {} = {}\".format(a,b,c))\n",
    "\n",
    "except ZeroDivisionError:\n",
    "    print(\"Division  by zero is not possible\")\n",
    "\n",
    "except ValueError:\n",
    "     print(\"The data types are not possible\")\n",
    "\n",
    "except TypeError:\n",
    "    print(\"The data is not in range\")"
   ]
  },
  {
   "cell_type": "code",
   "execution_count": null,
   "id": "6114db75-f70a-4e4e-9f05-34100767c5c1",
   "metadata": {},
   "outputs": [],
   "source": []
  }
 ],
 "metadata": {
  "kernelspec": {
   "display_name": "Python 3 (ipykernel)",
   "language": "python",
   "name": "python3"
  },
  "language_info": {
   "codemirror_mode": {
    "name": "ipython",
    "version": 3
   },
   "file_extension": ".py",
   "mimetype": "text/x-python",
   "name": "python",
   "nbconvert_exporter": "python",
   "pygments_lexer": "ipython3",
   "version": "3.12.4"
  }
 },
 "nbformat": 4,
 "nbformat_minor": 5
}
