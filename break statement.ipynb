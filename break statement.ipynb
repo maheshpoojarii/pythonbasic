{
 "cells": [
  {
   "cell_type": "code",
   "execution_count": 12,
   "id": "dfefe25c-12ec-4cc8-a1f1-e52a162dad11",
   "metadata": {},
   "outputs": [
    {
     "name": "stdout",
     "output_type": "stream",
     "text": [
      "Number to be guessed : 12\n",
      "Number Guessed: 1\n",
      "Number Guessed: 2\n",
      "Number Guessed: 3\n",
      "Number Guessed: 4\n",
      "Number Guessed: 5\n",
      "Number Guessed: 6\n",
      "Number Guessed: 7\n",
      "Number Guessed: 8\n",
      "Number Guessed: 9\n",
      "Number Guessed: 10\n",
      "Number Guessed: 11\n",
      "Number Guessed: 12\n",
      "random Number as been guessed successfully!\n"
     ]
    }
   ],
   "source": [
    "import random as r\n",
    "rand_num = r.randrange(1,20)      #generating a random number bettween  1 to 19\n",
    "print(\"Number to be guessed :\",rand_num)\n",
    "i = 1\n",
    "while True:\n",
    "    print(\"Number Guessed:\",i)\n",
    "    if(i == rand_num):  # If the number guessed is correct the this block wil be executed\n",
    "        print(\"random Number as been guessed successfully!\")\n",
    "        break  #Break statements stops and exits from the loop\n",
    "    i += 1  "
   ]
  },
  {
   "cell_type": "code",
   "execution_count": null,
   "id": "6c47fea9-3a05-4a5a-9aad-3d46f19acfdb",
   "metadata": {},
   "outputs": [],
   "source": []
  },
  {
   "cell_type": "code",
   "execution_count": null,
   "id": "8e52d0c8-cba7-4725-a2f8-970f226634df",
   "metadata": {},
   "outputs": [],
   "source": []
  },
  {
   "cell_type": "code",
   "execution_count": null,
   "id": "03490a7e-aa79-4658-9a8c-b4d28754cc84",
   "metadata": {},
   "outputs": [],
   "source": []
  },
  {
   "cell_type": "code",
   "execution_count": null,
   "id": "147ff3f4-a69a-4628-8a3a-9b1205378bd8",
   "metadata": {},
   "outputs": [],
   "source": []
  }
 ],
 "metadata": {
  "kernelspec": {
   "display_name": "Python 3 (ipykernel)",
   "language": "python",
   "name": "python3"
  },
  "language_info": {
   "codemirror_mode": {
    "name": "ipython",
    "version": 3
   },
   "file_extension": ".py",
   "mimetype": "text/x-python",
   "name": "python",
   "nbconvert_exporter": "python",
   "pygments_lexer": "ipython3",
   "version": "3.12.4"
  }
 },
 "nbformat": 4,
 "nbformat_minor": 5
}
