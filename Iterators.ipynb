{
 "cells": [
  {
   "cell_type": "code",
   "execution_count": 27,
   "id": "c4dfca30-5c47-41d8-9c75-ce6f64c6b2cc",
   "metadata": {},
   "outputs": [
    {
     "name": "stdout",
     "output_type": "stream",
     "text": [
      "22\n",
      "33\n",
      "55\n",
      "66\n"
     ]
    }
   ],
   "source": [
    "#defining a list\n",
    "our_list = [22,33,55,66]\n",
    "\n",
    "# get an iterator using iter() method\n",
    "our_iter = iter(our_list)\n",
    "\n",
    "## iterate through it using next() method\n",
    "\n",
    "#prints 22\n",
    "print(next(our_iter))\n",
    "\n",
    "#prints 33\n",
    "print(next(our_iter))\n",
    "\n",
    "##next(0bj) is same as calling obj.__next__() method\n",
    "\n",
    "#prints 55\n",
    "print(our_iter.__next__())\n",
    "\n",
    "#prints 66\n",
    "print(our_iter.__next__())\n",
    "\n",
    "## This will raise error, no iyem left\n",
    "#next(our_iter)"
   ]
  },
  {
   "cell_type": "code",
   "execution_count": 39,
   "id": "6ffb4fd1-0a1d-415f-8433-6d6e0a9fffb5",
   "metadata": {},
   "outputs": [
    {
     "name": "stdout",
     "output_type": "stream",
     "text": [
      "Class to implement an iterrator of powers of two \n",
      "1\n",
      "2\n",
      "4\n"
     ]
    }
   ],
   "source": [
    "# Creating a custom iterrator\n",
    "class Pow_of_Two:\n",
    "    '''Class to implement an iterrator of powers of two '''\n",
    "\n",
    "    def __init__(self,max = 0):\n",
    "        self.max = max\n",
    "\n",
    "    def __iter__(self):\n",
    "        self.n = 0\n",
    "        return self\n",
    "\n",
    "    def __next__(self):\n",
    "        if self.n <= self.max:\n",
    "            result = 2**self.n\n",
    "            self.n += 1\n",
    "            return result\n",
    "        else:\n",
    "            raise StopIteration\n",
    "\n",
    "print(Pow_of_Two.__doc__)\n",
    "a = Pow_of_Two(4)\n",
    "i = iter(a)\n",
    "print(next(i))\n",
    "print(next(i))\n",
    "print(next(i))\n",
    "\n"
   ]
  },
  {
   "cell_type": "code",
   "execution_count": 49,
   "id": "9b7cb7b0-dfd2-4791-bd32-02c97252dfe5",
   "metadata": {},
   "outputs": [
    {
     "name": "stdout",
     "output_type": "stream",
     "text": [
      "1\n",
      "3\n",
      "5\n",
      "7\n"
     ]
    }
   ],
   "source": [
    "#Creating a infinate custom iterrator\n",
    "class Infinate_Iter:\n",
    "    \"\"\" Infinate iterrator to return all odd numbers\"\"\"\n",
    "\n",
    "    def __iter__(self):\n",
    "        self.n = 1\n",
    "        return self\n",
    "    def __next__(self):\n",
    "        num = self.n\n",
    "        self.n += 2\n",
    "        return num\n",
    "\n",
    "a = Infinate_Iter()\n",
    "b = iter(a)\n",
    "print(next(b))\n",
    "print(next(b))\n",
    "print(next(b))\n",
    "print(b.__next__())"
   ]
  },
  {
   "cell_type": "code",
   "execution_count": null,
   "id": "1b72b713-e279-40a8-9ade-5f0ced1360f8",
   "metadata": {},
   "outputs": [],
   "source": []
  }
 ],
 "metadata": {
  "kernelspec": {
   "display_name": "Python 3 (ipykernel)",
   "language": "python",
   "name": "python3"
  },
  "language_info": {
   "codemirror_mode": {
    "name": "ipython",
    "version": 3
   },
   "file_extension": ".py",
   "mimetype": "text/x-python",
   "name": "python",
   "nbconvert_exporter": "python",
   "pygments_lexer": "ipython3",
   "version": "3.12.4"
  }
 },
 "nbformat": 4,
 "nbformat_minor": 5
}
