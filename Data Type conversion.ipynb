{
 "cells": [
  {
   "cell_type": "code",
   "execution_count": 15,
   "id": "d81d4eb0-8b81-4919-8b54-16b9b3a44565",
   "metadata": {},
   "outputs": [
    {
     "name": "stdout",
     "output_type": "stream",
     "text": [
      "datatype of num_int: <class 'int'>\n",
      "datatype of num_flo: <class 'float'>\n",
      "Value of num_new: 124.2\n",
      "datatype of num_new: <class 'float'>\n"
     ]
    }
   ],
   "source": [
    "# Implicit Type Convesrion\n",
    "num_int = 123\n",
    "num_flo = 1.2\n",
    "\n",
    "num_new = num_int + num_flo\n",
    "\n",
    "print(\"datatype of num_int:\",type(num_int))\n",
    "print(\"datatype of num_flo:\",type(num_flo))\n",
    "\n",
    "print(\"Value of num_new:\",num_new)\n",
    "print(\"datatype of num_new:\",type(num_new))\n"
   ]
  },
  {
   "cell_type": "code",
   "execution_count": 23,
   "id": "da6fd338-07d2-481a-860f-2b0d80c4da50",
   "metadata": {},
   "outputs": [
    {
     "name": "stdout",
     "output_type": "stream",
     "text": [
      "Data type of num_int : <class 'int'>\n",
      "Data type of num_str : <class 'str'>\n"
     ]
    }
   ],
   "source": [
    "# addition of string(higher) data type and integer(lower) datatype\n",
    "num_int = 123\n",
    "num_str =  \"456\"\n",
    "\n",
    "print(\"Data type of num_int :\",type(num_int))\n",
    "print(\"Data type of num_str :\",type(num_str))\n",
    "\n",
    "#Error : Implicit conversion will not work here\n",
    "#print(num_int + num_str)"
   ]
  },
  {
   "cell_type": "code",
   "execution_count": 25,
   "id": "45f7c2f5-0ba4-4c3c-a550-1617a4e02973",
   "metadata": {},
   "outputs": [
    {
     "name": "stdout",
     "output_type": "stream",
     "text": [
      "Data type of num_int : <class 'int'>\n",
      "Data type of num_str before Type Casting : <class 'str'>\n",
      "Data type of num_str before Type Casting : <class 'int'>\n",
      "Value of num_new: 124.2\n",
      "datatype of num_new: <class 'float'>\n"
     ]
    }
   ],
   "source": [
    "#Explicit Type Conversion\n",
    "num_int = 123\n",
    "num_str =  \"456\"\n",
    "\n",
    "\n",
    "print(\"Data type of num_int :\",type(num_int))\n",
    "print(\"Data type of num_str before Type Casting :\",type(num_str))\n",
    "\n",
    "num_str = int(num_str)        #Converting string to int\n",
    "print(\"Data type of num_str before Type Casting :\",type(num_str))\n",
    "\n",
    "\n",
    "num_new = num_int + num_flo\n",
    "\n",
    "print(\"Value of num_new:\",num_new)\n",
    "print(\"datatype of num_new:\",type(num_new))\n",
    "\n"
   ]
  },
  {
   "cell_type": "code",
   "execution_count": null,
   "id": "ac2be4f6-97ac-40fd-af7a-09165ecbcc00",
   "metadata": {},
   "outputs": [],
   "source": []
  }
 ],
 "metadata": {
  "kernelspec": {
   "display_name": "Python 3 (ipykernel)",
   "language": "python",
   "name": "python3"
  },
  "language_info": {
   "codemirror_mode": {
    "name": "ipython",
    "version": 3
   },
   "file_extension": ".py",
   "mimetype": "text/x-python",
   "name": "python",
   "nbconvert_exporter": "python",
   "pygments_lexer": "ipython3",
   "version": "3.12.4"
  }
 },
 "nbformat": 4,
 "nbformat_minor": 5
}
