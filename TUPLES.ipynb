{
 "cells": [
  {
   "cell_type": "code",
   "execution_count": 5,
   "id": "485630c6-2415-4846-bcc8-09a677589de7",
   "metadata": {},
   "outputs": [
    {
     "name": "stdout",
     "output_type": "stream",
     "text": [
      "()\n",
      "(1, 2, 3)\n",
      "(101, 'Ram', 2000.2, 'Raj')\n"
     ]
    }
   ],
   "source": [
    "#CREATING AN EMPTY TUPLES\n",
    "tuple1=()\n",
    "print(tuple1)\n",
    "\n",
    "#creating tuples with integer elements\n",
    "tuple2=(1,2,3)\n",
    "print(tuple2)\n",
    "\n",
    "#tuples with mixed datatypes\n",
    "tuple3=(101,\"Ram\",2000.2,\"Raj\")\n",
    "print(tuple3)"
   ]
  },
  {
   "cell_type": "code",
   "execution_count": 15,
   "id": "3b927f17-d922-4e8e-9358-5dfc85bb85e3",
   "metadata": {},
   "outputs": [
    {
     "name": "stdout",
     "output_type": "stream",
     "text": [
      "('points', [1, 2, 3], (4, 5, 6))\n",
      "(101, 'Ram', 2000.2, 'md')\n",
      "101\n",
      "Ram\n",
      "2000.2\n",
      "md\n",
      "<class 'tuple'>\n"
     ]
    }
   ],
   "source": [
    "#creation of nested tuples\n",
    "tuple4=(\"points\",[1,2,3],(4,5,6))\n",
    "print(tuple4)\n",
    "\n",
    "#tuples can be created without any parenthesis\n",
    "#also called tuple packing\n",
    "tuple5=101,\"Ram\",2000.2,\"md\"\n",
    "print(tuple5)\n",
    "\n",
    "#tuple unpacking is also possible\n",
    "empid,empname,empsal,empdept=tuple5\n",
    "print(empid)\n",
    "print(empname)\n",
    "print(empsal)\n",
    "print(empdept)\n",
    "print(type(tuple5))\n"
   ]
  },
  {
   "cell_type": "code",
   "execution_count": 31,
   "id": "30a0417e-458b-4147-a989-f58d2f98364d",
   "metadata": {},
   "outputs": [
    {
     "name": "stdout",
     "output_type": "stream",
     "text": [
      "('w', 'e', 'l', 'c', 'o', 'm', 'e')\n",
      "e\n",
      "c\n",
      "m\n",
      "('points', [1, 3, 4], (8, 7, 9))\n",
      "n\n",
      "4\n",
      "9\n"
     ]
    }
   ],
   "source": [
    "#accessing elements in a tuple\n",
    "tuple1=('w','e','l','c','o','m','e')\n",
    "print(tuple1)\n",
    "print(tuple1[1])\n",
    "print(tuple1[3])\n",
    "print(tuple1[5])\n",
    "\n",
    "#nested tuples\n",
    "tuple4=(\"points\",[1,3,4],(8,7,9))\n",
    "print(tuple4)\n",
    "print(tuple4[0][3])\n",
    "print(tuple4[1][2])\n",
    "print(tuple4[2][2])"
   ]
  },
  {
   "cell_type": "code",
   "execution_count": 37,
   "id": "ce4f6bd6-7ccb-4a3f-87a7-2c6da5049485",
   "metadata": {},
   "outputs": [
    {
     "name": "stdout",
     "output_type": "stream",
     "text": [
      "('w', 'e', 'l', 'c', 'o', 'm', 'e')\n",
      "('e', 'l')\n",
      "('w', 'e', 'l', 'c')\n",
      "('c', 'o', 'm', 'e')\n",
      "('w', 'e', 'l', 'c', 'o', 'm', 'e')\n"
     ]
    }
   ],
   "source": [
    "#slicing tuple contents\n",
    "tuple1=('w','e','l','c','o','m','e')\n",
    "print(tuple1)\n",
    "print(tuple1[1:3])\n",
    "print(tuple1[:-3])\n",
    "print(tuple1[3:])\n",
    "print(tuple1[:])"
   ]
  },
  {
   "cell_type": "code",
   "execution_count": 41,
   "id": "0ea290e1-1392-474c-865e-394bc994b35b",
   "metadata": {
    "scrolled": true
   },
   "outputs": [
    {
     "name": "stdout",
     "output_type": "stream",
     "text": [
      "('w', 'e', 'l', 'c', 'o', 'm', 'e')\n",
      "('g', 'o', 'o', 'd', 'b', 'y', 'e')\n"
     ]
    }
   ],
   "source": [
    "#tuple elements are immutable\n",
    "tuple1=('w','e','l','c','o','m','e')\n",
    "print(tuple1)\n",
    "#tuple1[2]='x' # error\n",
    "\n",
    "#tuple can be reassigned\n",
    "tuple1=('g','o','o','d','b','y','e')\n",
    "print(tuple1)"
   ]
  },
  {
   "cell_type": "code",
   "execution_count": 53,
   "id": "92aef671-718b-48dd-9358-f8aeecb08feb",
   "metadata": {},
   "outputs": [
    {
     "name": "stdout",
     "output_type": "stream",
     "text": [
      "('x', 'y', 'z')\n",
      "('a', 'b', 'c')\n",
      "('x', 'y', 'z', 'a', 'b', 'c')\n",
      "('me', 'me', 'me')\n"
     ]
    }
   ],
   "source": [
    "#concatenation of tuples\n",
    "tuple1=('x','y','z')\n",
    "tuple2=('a','b','c')\n",
    "print(tuple1)\n",
    "print(tuple2)\n",
    "print(tuple1 + tuple2)\n",
    "print((\"me\",) * 3)"
   ]
  },
  {
   "cell_type": "code",
   "execution_count": 55,
   "id": "325b77c6-d799-4735-8030-89783c03fdaf",
   "metadata": {},
   "outputs": [
    {
     "ename": "NameError",
     "evalue": "name 'tuple1' is not defined",
     "output_type": "error",
     "traceback": [
      "\u001b[1;31m---------------------------------------------------------------------------\u001b[0m",
      "\u001b[1;31mNameError\u001b[0m                                 Traceback (most recent call last)",
      "Cell \u001b[1;32mIn[55], line 9\u001b[0m\n\u001b[0;32m      4\u001b[0m \u001b[38;5;66;03m#as immutable so elements can not be deleted\u001b[39;00m\n\u001b[0;32m      5\u001b[0m \u001b[38;5;66;03m# del tuple1[1]\u001b[39;00m\n\u001b[0;32m      6\u001b[0m \n\u001b[0;32m      7\u001b[0m \u001b[38;5;66;03m#but can delete entire tuple\u001b[39;00m\n\u001b[0;32m      8\u001b[0m \u001b[38;5;28;01mdel\u001b[39;00m tuple1\n\u001b[1;32m----> 9\u001b[0m \u001b[38;5;28mprint\u001b[39m(tuple1)\n",
      "\u001b[1;31mNameError\u001b[0m: name 'tuple1' is not defined"
     ]
    }
   ],
   "source": [
    "#deletion operation on tuple\n",
    "tuple1=('w','e','l','c','o','m','e')\n",
    "\n",
    "#as immutable so elements can not be deleted\n",
    "# del tuple1[1]\n",
    "\n",
    "#but can delete entire tuple\n",
    "del tuple1\n",
    "print(tuple1)\n"
   ]
  },
  {
   "cell_type": "code",
   "execution_count": 59,
   "id": "4fbb2f6c-dab7-459e-896a-0133512d50d7",
   "metadata": {},
   "outputs": [
    {
     "name": "stdout",
     "output_type": "stream",
     "text": [
      "2\n",
      "3\n"
     ]
    }
   ],
   "source": [
    "#tuple methods\n",
    "tuple1=('w','e','l','c','o','m','e')\n",
    "print(tuple1.count('e'))\n",
    "print(tuple1.index('c'))"
   ]
  },
  {
   "cell_type": "code",
   "execution_count": 61,
   "id": "0b83a646-9336-4c80-b627-c97241360f5e",
   "metadata": {},
   "outputs": [
    {
     "name": "stdout",
     "output_type": "stream",
     "text": [
      "True\n",
      "False\n",
      "False\n",
      "True\n"
     ]
    }
   ],
   "source": [
    "#tuple operation\n",
    "tuple7=('w','e','l','c','o','m','e')\n",
    "\n",
    "#membership\n",
    "print('c' in tuple7)\n",
    "print('c'  not in tuple7)\n",
    "print('a' in tuple7)\n",
    "print('a'  not in tuple7)"
   ]
  },
  {
   "cell_type": "code",
   "execution_count": 63,
   "id": "ef9655de-11b0-41f2-8fd4-d9837ae32c33",
   "metadata": {},
   "outputs": [
    {
     "name": "stdout",
     "output_type": "stream",
     "text": [
      "leters is -> w\n",
      "leters is -> e\n",
      "leters is -> l\n",
      "leters is -> c\n",
      "leters is -> o\n",
      "leters is -> m\n",
      "leters is -> e\n"
     ]
    }
   ],
   "source": [
    "#iteration through tuple elements\n",
    "tuple6=('w','e','l','c','o','m','e')\n",
    "for letters in tuple6:\n",
    "    print(\"leters is ->\",letters)"
   ]
  },
  {
   "cell_type": "code",
   "execution_count": null,
   "id": "8a0d1603-a655-413c-955e-ad3e3d5028ad",
   "metadata": {},
   "outputs": [],
   "source": [
    "#built-in function with tuple\n",
    "tuple=(11,33,44,5,22,66,77,88)\n",
    "print(tuple)\n",
    "\n",
    "print(max(tuple))\n",
    "print(min(tuple))\n",
    "print(len(tuple))\n",
    "print(max(tuple))"
   ]
  }
 ],
 "metadata": {
  "kernelspec": {
   "display_name": "Python 3 (ipykernel)",
   "language": "python",
   "name": "python3"
  },
  "language_info": {
   "codemirror_mode": {
    "name": "ipython",
    "version": 3
   },
   "file_extension": ".py",
   "mimetype": "text/x-python",
   "name": "python",
   "nbconvert_exporter": "python",
   "pygments_lexer": "ipython3",
   "version": "3.12.4"
  }
 },
 "nbformat": 4,
 "nbformat_minor": 5
}
