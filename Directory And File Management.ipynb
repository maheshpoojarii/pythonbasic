{
 "cells": [
  {
   "cell_type": "code",
   "execution_count": 23,
   "id": "4547a28c-98cc-4fb7-b2f4-62e440a46c6d",
   "metadata": {
    "scrolled": true
   },
   "outputs": [
    {
     "name": "stdout",
     "output_type": "stream",
     "text": [
      "D:\\whatsaap\n",
      "b'D:\\\\whatsaap'\n"
     ]
    }
   ],
   "source": [
    "import os\n",
    "print(os.getcwd())            #Return the present working directory\n",
    "print(os.getcwdb())           #Return the present working directory as abyte object           "
   ]
  },
  {
   "cell_type": "code",
   "execution_count": 25,
   "id": "789d8f78-4722-48a8-99c2-0b011e20505e",
   "metadata": {
    "scrolled": true
   },
   "outputs": [
    {
     "name": "stdout",
     "output_type": "stream",
     "text": [
      "['01Intro.ppt', '02Data.ppt', '03Preprocessing.ppt', '15-May-2024 Karnataka Government Jobs.pdf', '6th sem.pdf', '6_Image_Representation_Description.pdf', 'All_Document_Reader_1718338366038.pdf', 'BIOLUMINESCENT-2024 (3).pdf', 'data science internals.docx', 'DAYS ALLOTMENT TO DEPARTMENTS.pdf', 'Dept. of MBA-MBA(TTM) Sambhrama 2024 MOCKPRESS competetion.pdf (1).pdf', 'DocScanner 05-Aug-2023 11-22 am.pdf', 'DocScanner 05-Aug-2023 11-49 am.pdf', 'DocScanner 11-Aug-2023 4-02 pm.pdf', 'DocScanner 13-Dec-2023 9-26 pm.pdf', 'DocScanner 14-Sep-2023 11-15 am.pdf', 'DocScanner 23-Nov-2023 3-57 pm.pdf', 'DocScanner 30-Aug-2023 2-02 pm.pdf', 'DocScanner 30-Aug-2023 2-55 pm.pdf', 'ds lab.pdf', 'ds observation .pdf', 'EVENTS ALLOTMENT.pdf', 'EVENT_Brochure_20240427_225417_0000.pdf', 'Fashion Event.pdf', 'Final Invitation.pdf', 'imageProcessing1stInternals.pdf', 'IMG-20231025-WA0002 (2 files merged).pdf', 'ip lab.pdf', 'mahesh1.pptx', 'Python for Data Analysis _ data wrangling with Pandas- NumPy- and IPython.pdf', 'Ramnath_edited_(2)[1] q.pptx', 'Red Illustration Minimalist World Poetry Day Instagram Story_20240606_001512_0000.pdf', 'Registration form MIME PG.docx', 'REVISED-MSc-SCHEME+SYLLABUS-DEC-2023 (3).pdf', 'sambrama rules and regulation.pdf', 'SCINTILLATE 2024 (3).pdf', 'TALENTS DAY 2024 - RULES.docx', 'Talents day_20240430_164705_0000.pdf', 'Visualizing Audio Data  And  Applying Feature Extraction.pptx']\n",
      "D:\\whatsaap\n"
     ]
    }
   ],
   "source": [
    "os.chdir(\"D:\\\\whatsaap\")                            #Use to change directory\n",
    "print(os.listdir())                                 #All files and sub directories inside a directory\n",
    "print(os.getcwd())                                                    #can be known using the listdir() method."
   ]
  },
  {
   "cell_type": "code",
   "execution_count": 27,
   "id": "4833b5b2-cd2d-4f2b-b85a-e7556a73fbf4",
   "metadata": {},
   "outputs": [],
   "source": [
    "# used to make a new directory\n",
    "os.mkdir('raj')"
   ]
  },
  {
   "cell_type": "code",
   "execution_count": 29,
   "id": "b56ce51f-b848-48d6-a467-d9cc02290184",
   "metadata": {},
   "outputs": [],
   "source": [
    "# used to rename a directory\n",
    "os.rename('raj','man')"
   ]
  },
  {
   "cell_type": "code",
   "execution_count": 21,
   "id": "79cb38c2-585b-4c01-aa26-1bece6915d89",
   "metadata": {},
   "outputs": [],
   "source": [
    "#Removing a file and directory\n",
    "os.remove('guest100067.dat')   # use to remove a file\n",
    "os.rmdir('man')                        # use to remove a directory"
   ]
  },
  {
   "cell_type": "code",
   "execution_count": null,
   "id": "4d62e085-1070-4d95-b965-d09d4b7517d7",
   "metadata": {},
   "outputs": [],
   "source": []
  }
 ],
 "metadata": {
  "kernelspec": {
   "display_name": "Python 3 (ipykernel)",
   "language": "python",
   "name": "python3"
  },
  "language_info": {
   "codemirror_mode": {
    "name": "ipython",
    "version": 3
   },
   "file_extension": ".py",
   "mimetype": "text/x-python",
   "name": "python",
   "nbconvert_exporter": "python",
   "pygments_lexer": "ipython3",
   "version": "3.12.4"
  }
 },
 "nbformat": 4,
 "nbformat_minor": 5
}
