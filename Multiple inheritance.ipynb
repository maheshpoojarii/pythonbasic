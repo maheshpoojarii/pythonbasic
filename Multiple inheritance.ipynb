{
 "cells": [
  {
   "cell_type": "code",
   "execution_count": 11,
   "id": "4f02277e-a672-4c4f-a764-9e08b4b0a456",
   "metadata": {},
   "outputs": [],
   "source": [
    "#Multiple Inheritance\n",
    "class base1:\n",
    "    pass\n",
    "\n",
    "class base2:\n",
    "    pass\n",
    "\n",
    "class MultDerived(base1,base2):\n",
    "    pass"
   ]
  },
  {
   "cell_type": "code",
   "execution_count": 13,
   "id": "47b9a99b-0283-4fb7-b016-e0aa4e0d8858",
   "metadata": {},
   "outputs": [],
   "source": [
    "#Multiple Inheritance\n",
    "class base1:\n",
    "    def funcbase1(self):\n",
    "        print('funcbase1() is executing...')\n",
    "\n",
    "class base2:\n",
    "    def funcbase2(self):\n",
    "        print('funcbase2() is executing...')\n",
    "\n",
    "class base3:\n",
    "    def funcbase3(slef):\n",
    "        print('funcbase3() is executing...')\n",
    "\n",
    "\n",
    "class MultDerived(base1,base2,base3):\n",
    "    def funcMultDerived(self):\n",
    "        print('funcMultDerived() is executing...')   \n",
    "    \n"
   ]
  },
  {
   "cell_type": "code",
   "execution_count": 21,
   "id": "f8288d41-75c9-4684-a154-d4f57155fd6b",
   "metadata": {},
   "outputs": [
    {
     "name": "stdout",
     "output_type": "stream",
     "text": [
      "funcbase1() is executing...\n",
      "funcbase2() is executing...\n",
      "funcbase3() is executing...\n",
      "funcMultDerived() is executing...\n"
     ]
    }
   ],
   "source": [
    "a =MultDerived()\n",
    "a.funcbase1()\n",
    "a.funcbase2()\n",
    "a.funcbase3()\n",
    "a.funcMultDerived()\n"
   ]
  },
  {
   "cell_type": "code",
   "execution_count": null,
   "id": "5198f7dd-d9b7-4c60-81e3-a68b84e00411",
   "metadata": {},
   "outputs": [],
   "source": []
  }
 ],
 "metadata": {
  "kernelspec": {
   "display_name": "Python 3 (ipykernel)",
   "language": "python",
   "name": "python3"
  },
  "language_info": {
   "codemirror_mode": {
    "name": "ipython",
    "version": 3
   },
   "file_extension": ".py",
   "mimetype": "text/x-python",
   "name": "python",
   "nbconvert_exporter": "python",
   "pygments_lexer": "ipython3",
   "version": "3.12.4"
  }
 },
 "nbformat": 4,
 "nbformat_minor": 5
}
