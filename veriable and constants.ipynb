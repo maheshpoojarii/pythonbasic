{
 "cells": [
  {
   "cell_type": "code",
   "execution_count": 3,
   "id": "abc11b6e-35b9-4eaa-bdba-99f0056b2878",
   "metadata": {},
   "outputs": [
    {
     "name": "stdout",
     "output_type": "stream",
     "text": [
      "hello word\n"
     ]
    }
   ],
   "source": [
    "print(\"hello word\")"
   ]
  },
  {
   "cell_type": "markdown",
   "id": "219925c9-4ec7-4ce4-93e2-df07a56b24c9",
   "metadata": {},
   "source": [
    "##VERIABLE AND CONSTANTS"
   ]
  },
  {
   "cell_type": "code",
   "execution_count": 5,
   "id": "6096992d-83a4-4bbb-88ab-203b97c2c763",
   "metadata": {},
   "outputs": [
    {
     "name": "stdout",
     "output_type": "stream",
     "text": [
      "3.14\n"
     ]
    }
   ],
   "source": [
    "pi=3.14\n",
    "gravity=9.8\n",
    "print(pi)"
   ]
  },
  {
   "cell_type": "code",
   "execution_count": 7,
   "id": "c33e4c16-3984-4c33-8117-82e66be5b46b",
   "metadata": {},
   "outputs": [
    {
     "name": "stdout",
     "output_type": "stream",
     "text": [
      "apple\n",
      "aeroplane\n",
      "1 2.5 hellow\n",
      "9 9 9\n"
     ]
    }
   ],
   "source": [
    "a=\"apple\"\n",
    "print(a)\n",
    "\n",
    "A=\"aeroplane\"\n",
    "print(A)\n",
    "\n",
    "b,c,d=1,2.5,\"hellow\"\n",
    "print(b,c,d)\n",
    "\n",
    "b=c=d=9\n",
    "print(b,c,d)"
   ]
  },
  {
   "cell_type": "code",
   "execution_count": null,
   "id": "686e4e48-ce43-49ec-9c77-1b57ea44f070",
   "metadata": {},
   "outputs": [],
   "source": []
  }
 ],
 "metadata": {
  "kernelspec": {
   "display_name": "Python 3 (ipykernel)",
   "language": "python",
   "name": "python3"
  },
  "language_info": {
   "codemirror_mode": {
    "name": "ipython",
    "version": 3
   },
   "file_extension": ".py",
   "mimetype": "text/x-python",
   "name": "python",
   "nbconvert_exporter": "python",
   "pygments_lexer": "ipython3",
   "version": "3.12.4"
  }
 },
 "nbformat": 4,
 "nbformat_minor": 5
}
