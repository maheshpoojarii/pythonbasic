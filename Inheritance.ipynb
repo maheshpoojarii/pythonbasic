{
 "cells": [
  {
   "cell_type": "code",
   "execution_count": 25,
   "id": "f526ea46-b821-492c-a6bc-5de3ec13f9fb",
   "metadata": {},
   "outputs": [],
   "source": [
    "# creating Class and object in python\n",
    "class myBird:\n",
    "\n",
    "    def __init__(self):\n",
    "        print(\"myBird class constuctor is executing...\")\n",
    "\n",
    "    def whatType(self):\n",
    "        print(\"I am Bird...\")\n",
    "\n",
    "    def canSwim(self):\n",
    "        print(\"I can Swim...\")\n"
   ]
  },
  {
   "cell_type": "code",
   "execution_count": 39,
   "id": "641f9d98-8166-4c4e-9d88-c94e32649b3c",
   "metadata": {},
   "outputs": [],
   "source": [
    "# myPenguin class inheriting the attributes from the myBird class\n",
    "class myPenguin(myBird):\n",
    "    \n",
    "    def __init__(self):\n",
    "        #call super() function\n",
    "        super().__init__()\n",
    "        print(\"myPenguin class constuctor is executing..\")\n",
    "\n",
    "    def whoisThis(self):\n",
    "        print(\"I am penguin...\")\n",
    "\n",
    "    def canRun(self):\n",
    "        print(\"I can run faster...\")\n",
    "    "
   ]
  },
  {
   "cell_type": "code",
   "execution_count": 41,
   "id": "e1acb14a-f1ae-4979-88c5-13cdf0a7b351",
   "metadata": {},
   "outputs": [
    {
     "name": "stdout",
     "output_type": "stream",
     "text": [
      "myBird class constuctor is executing...\n",
      "myPenguin class constuctor is executing..\n",
      "I am Bird...\n",
      "I can Swim...\n",
      "I am penguin...\n",
      "I can run faster...\n"
     ]
    }
   ],
   "source": [
    "#Acessing the child class's  attributes(Inheritance)\n",
    "a = myPenguin()\n",
    "a.whatType()\n",
    "a.canSwim()\n",
    "a.whoisThis()\n",
    "a.canRun()"
   ]
  },
  {
   "cell_type": "code",
   "execution_count": 51,
   "id": "60d3425b-0e38-44d9-b2b0-c511770cbb5c",
   "metadata": {},
   "outputs": [],
   "source": [
    "#Polymorphism\n",
    "class myParrot:\n",
    "\n",
    "    def canFly(self):\n",
    "        print(\"Parrot can fla...\")\n",
    "\n",
    "    def canSwim(self):\n",
    "        print(\"parrot can't Swim...\")\n",
    "     "
   ]
  },
  {
   "cell_type": "code",
   "execution_count": 53,
   "id": "8d7e8929-f53d-480f-915d-9cc6f177177a",
   "metadata": {},
   "outputs": [],
   "source": [
    "class myPenguin:\n",
    "\n",
    "    def canFly(self):\n",
    "        print(\"Penguin can't fla...\")\n",
    "\n",
    "    def canSwim(self):\n",
    "        print(\"penguim can Swim...\")"
   ]
  },
  {
   "cell_type": "code",
   "execution_count": 55,
   "id": "9018f05d-4a75-481a-a586-8f5d17d38c73",
   "metadata": {},
   "outputs": [],
   "source": [
    "# comman interface\n",
    "def flying_bird_test(bird):\n",
    "    bird.canFly()\n",
    "    bird.canSwim()"
   ]
  },
  {
   "cell_type": "code",
   "execution_count": 65,
   "id": "35175929-87b5-46ca-b2f8-20b731b9d07f",
   "metadata": {},
   "outputs": [
    {
     "name": "stdout",
     "output_type": "stream",
     "text": [
      "Parrot can fla...\n",
      "parrot can't Swim...\n",
      "\n",
      "Penguin can't fla...\n",
      "penguim can Swim...\n"
     ]
    }
   ],
   "source": [
    "#inheritance objects\n",
    "bird_parrot = myParrot()\n",
    "bird_penguin = myPenguin()\n",
    "\n",
    "# pasing the object\n",
    "flying_bird_test(bird_parrot)\n",
    "print(\"\")\n",
    "flying_bird_test(bird_penguin)"
   ]
  },
  {
   "cell_type": "code",
   "execution_count": null,
   "id": "9dad9b25-1585-4d60-ac5e-8826b6283dfa",
   "metadata": {},
   "outputs": [],
   "source": []
  }
 ],
 "metadata": {
  "kernelspec": {
   "display_name": "Python 3 (ipykernel)",
   "language": "python",
   "name": "python3"
  },
  "language_info": {
   "codemirror_mode": {
    "name": "ipython",
    "version": 3
   },
   "file_extension": ".py",
   "mimetype": "text/x-python",
   "name": "python",
   "nbconvert_exporter": "python",
   "pygments_lexer": "ipython3",
   "version": "3.12.4"
  }
 },
 "nbformat": 4,
 "nbformat_minor": 5
}
