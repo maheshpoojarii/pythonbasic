{
 "cells": [
  {
   "cell_type": "code",
   "execution_count": 7,
   "id": "225b0393-aeb0-4b30-93d7-d1a980267824",
   "metadata": {},
   "outputs": [
    {
     "name": "stdout",
     "output_type": "stream",
     "text": [
      "Exception caught!\n"
     ]
    }
   ],
   "source": [
    "try:\n",
    "    \"\"\"\n",
    "    The code which can give rise ta an exception is written here.\n",
    "    \"\"\"\n",
    "    a = \"hi\"\n",
    "    b = int(a)\n",
    "    print(\"I am here\")\n",
    "except:\n",
    "    print(\"Exception caught!\")\n",
    "    "
   ]
  },
  {
   "cell_type": "code",
   "execution_count": 27,
   "id": "0f7430fe-2a84-40e9-8aa3-fe3da449934a",
   "metadata": {},
   "outputs": [
    {
     "name": "stdout",
     "output_type": "stream",
     "text": [
      "Division by zero is not posssible\n"
     ]
    }
   ],
   "source": [
    "#Catching specific exception\n",
    "try:\n",
    "    a = 10\n",
    "    b = 0\n",
    "    c = a/b\n",
    "    print(\"c= \",c)\n",
    "except ZeroDivisionError:\n",
    "    print(\"Division by zero is not posssible\")"
   ]
  },
  {
   "cell_type": "code",
   "execution_count": 29,
   "id": "edeeaf80-194f-42ef-926d-0fcfff35d3a1",
   "metadata": {},
   "outputs": [
    {
     "name": "stdout",
     "output_type": "stream",
     "text": [
      "TypeError Exception caught!\n"
     ]
    }
   ],
   "source": [
    "#Exception can be raised also\n",
    "try:\n",
    "    raise TypeError\n",
    "\n",
    "except TypeError:\n",
    "    print(\"TypeError Exception caught!\")"
   ]
  },
  {
   "cell_type": "code",
   "execution_count": 31,
   "id": "a008dd63-c4f3-4444-bf87-760804dbffe9",
   "metadata": {},
   "outputs": [
    {
     "name": "stdout",
     "output_type": "stream",
     "text": [
      "In try block\n",
      "IN except block\n",
      "In the finally block\n"
     ]
    }
   ],
   "source": [
    "#try...finally\n",
    "try:\n",
    "    print(\"In try block\")\n",
    "    raise TypeError\n",
    "\n",
    "except:\n",
    "    print(\"IN except block\")\n",
    "\n",
    "finally:\n",
    "    print(\"In the finally block\")"
   ]
  },
  {
   "cell_type": "code",
   "execution_count": null,
   "id": "178aac78-be10-4b98-a379-3ba0c652ea1e",
   "metadata": {},
   "outputs": [],
   "source": []
  }
 ],
 "metadata": {
  "kernelspec": {
   "display_name": "Python 3 (ipykernel)",
   "language": "python",
   "name": "python3"
  },
  "language_info": {
   "codemirror_mode": {
    "name": "ipython",
    "version": 3
   },
   "file_extension": ".py",
   "mimetype": "text/x-python",
   "name": "python",
   "nbconvert_exporter": "python",
   "pygments_lexer": "ipython3",
   "version": "3.12.4"
  }
 },
 "nbformat": 4,
 "nbformat_minor": 5
}
