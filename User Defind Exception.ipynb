{
 "cells": [
  {
   "cell_type": "code",
   "execution_count": 9,
   "id": "d6e6aef1-094b-4f84-b1f0-d82993643d36",
   "metadata": {},
   "outputs": [
    {
     "name": "stdout",
     "output_type": "stream",
     "text": [
      "Age is less than 18\n"
     ]
    }
   ],
   "source": [
    "class VotersElligibility(Exception):\n",
    "    def __init__(self):\n",
    "        super()\n",
    "\n",
    "try:\n",
    "    age = 12\n",
    "    if(age<18):\n",
    "        raise VotersElligibility\n",
    "\n",
    "except VotersElligibility:\n",
    "    print(\"Age is less than 18\")\n",
    "\n",
    "else:\n",
    "    print(\"Age is greater than otr equal to 18\")"
   ]
  },
  {
   "cell_type": "code",
   "execution_count": 25,
   "id": "1610c4a2-c761-4907-b8bc-b4706c0eb144",
   "metadata": {},
   "outputs": [
    {
     "name": "stdout",
     "output_type": "stream",
     "text": [
      "Age is  hi\n",
      "Age is not numeric\n",
      "End of the program\n"
     ]
    }
   ],
   "source": [
    "class VotersElligibility(Exception):\n",
    "    def __init__(self):\n",
    "        super()\n",
    "\n",
    "try:\n",
    "    age = \"hi\"\n",
    "    print(\"Age is  \"+str(age))\n",
    "    if(age<18):\n",
    "        raise VotersElligibility\n",
    "\n",
    "except VotersElligibility:\n",
    "    print(\"Age is less than 18\")\n",
    "\n",
    "except TypeError:\n",
    "    print(\"Age is not numeric\")\n",
    "\n",
    "else:\n",
    "    print(\"Age is greater than otr equal to 18\")\n",
    "\n",
    "finally:\n",
    "    print(\"End of the program\")"
   ]
  },
  {
   "cell_type": "code",
   "execution_count": null,
   "id": "ab71c65f-816b-45f2-8494-8ba23b91573d",
   "metadata": {},
   "outputs": [],
   "source": []
  }
 ],
 "metadata": {
  "kernelspec": {
   "display_name": "Python 3 (ipykernel)",
   "language": "python",
   "name": "python3"
  },
  "language_info": {
   "codemirror_mode": {
    "name": "ipython",
    "version": 3
   },
   "file_extension": ".py",
   "mimetype": "text/x-python",
   "name": "python",
   "nbconvert_exporter": "python",
   "pygments_lexer": "ipython3",
   "version": "3.12.4"
  }
 },
 "nbformat": 4,
 "nbformat_minor": 5
}
