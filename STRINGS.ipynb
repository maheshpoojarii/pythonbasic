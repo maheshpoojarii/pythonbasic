{
 "cells": [
  {
   "cell_type": "code",
   "execution_count": 13,
   "id": "75f4e81d-4164-4b52-b85f-35688976b54b",
   "metadata": {},
   "outputs": [
    {
     "name": "stdout",
     "output_type": "stream",
     "text": [
      "Welcome\n",
      "Welcome\n",
      "Welcome\n",
      "Welcome\n",
      "to the world of\n",
      "Python programming\n"
     ]
    }
   ],
   "source": [
    "# different ways to define a string in python\n",
    "mystr1 = 'Welcome'\n",
    "print(mystr1)\n",
    "\n",
    "mystr2 = \"Welcome\"\n",
    "print(mystr2)\n",
    "\n",
    "mystr3 = '''Welcome'''\n",
    "print(mystr3)\n",
    "\n",
    "# triple quotes string can extend multiple lines\n",
    "mystr4 = \"\"\"Welcome\n",
    "to the world of\n",
    "Python programming\"\"\"\n",
    "print(mystr4)"
   ]
  },
  {
   "cell_type": "code",
   "execution_count": 21,
   "id": "cf472fc3-f47c-448e-bc8a-1700050fd87b",
   "metadata": {},
   "outputs": [
    {
     "name": "stdout",
     "output_type": "stream",
     "text": [
      "mystr =  language\n",
      "mystr[0] =  l\n",
      "mystr[-1] =  e\n",
      "mystr[1:5] =  angu\n",
      "mystr[5:-2] =  a\n"
     ]
    }
   ],
   "source": [
    "# accessing characters in a string\n",
    "mystr = 'language'\n",
    "print('mystr = ',mystr)\n",
    "\n",
    "print('mystr[0] = ',mystr[0])\n",
    "print('mystr[-1] = ',mystr[-1])\n",
    "print('mystr[1:5] = ',mystr[1:5])\n",
    "print('mystr[5:-2] = ',mystr[5:-2])\n",
    "#print('mystr[10] = ',mystr[10])\n"
   ]
  },
  {
   "cell_type": "code",
   "execution_count": 31,
   "id": "85a6d0c6-800a-4f25-840d-14afd17fff09",
   "metadata": {},
   "outputs": [
    {
     "name": "stdout",
     "output_type": "stream",
     "text": [
      "Welcome\n",
      "language\n"
     ]
    }
   ],
   "source": [
    "# strings are immutable\n",
    "# but different strings can be assigned\n",
    "\n",
    "mystr1 = 'Welcome'\n",
    "print(mystr1)\n",
    "\n",
    "mystr = 'language'\n",
    "print(mystr)\n",
    "\n",
    "#mystr[3] = 'x'"
   ]
  },
  {
   "cell_type": "code",
   "execution_count": 45,
   "id": "e2189cbf-1579-4956-bb16-e74436754d83",
   "metadata": {},
   "outputs": [
    {
     "name": "stdout",
     "output_type": "stream",
     "text": [
      "mystr1 + mystr2 = Welcome to all\n",
      " mystr1 * 3 =  WelcomeWelcomeWelcome\n"
     ]
    }
   ],
   "source": [
    "# concatination of strings\n",
    "\n",
    "mystr1 = 'Welcome'\n",
    "mystr2 = ' to all'\n",
    "\n",
    "#using +\n",
    "print('mystr1 + mystr2 =',mystr1 + mystr2)\n",
    "\n",
    "#using *\n",
    "print(' mystr1 * 3 = ',mystr1 * 3)"
   ]
  },
  {
   "cell_type": "code",
   "execution_count": 65,
   "id": "15fb8036-6b5e-4d17-a998-d8913fcacdf8",
   "metadata": {},
   "outputs": [
    {
     "name": "stdout",
     "output_type": "stream",
     "text": [
      "3 times l letter has been found\n"
     ]
    }
   ],
   "source": [
    "#iterrating through a string\n",
    "letter_count = 0\n",
    "for letter in 'hello world':\n",
    "    if letter == 'l':\n",
    "      letter_count += 1\n",
    "print(letter_count,'times l letter has been found')"
   ]
  },
  {
   "cell_type": "code",
   "execution_count": 67,
   "id": "269122ee-92cd-4637-915b-cd604b79276e",
   "metadata": {},
   "outputs": [
    {
     "name": "stdout",
     "output_type": "stream",
     "text": [
      "True\n",
      "False\n",
      "False\n",
      "True\n"
     ]
    }
   ],
   "source": [
    "#string membership\n",
    "print('l' in 'hello')\n",
    "print('l' not in 'hello')\n",
    "print('b' in 'hello')\n",
    "print('b' not in 'hello')"
   ]
  },
  {
   "cell_type": "code",
   "execution_count": 79,
   "id": "00116ba8-a2d8-445f-b8ab-628a94438aad",
   "metadata": {},
   "outputs": [
    {
     "name": "stdout",
     "output_type": "stream",
     "text": [
      "list(enumerate(mystr) =  [(0, 'u'), (1, 'n'), (2, 'i'), (3, 'v'), (4, 'e'), (5, 'r'), (6, 's'), (7, 'i'), (8, 't'), (9, 'y')]\n",
      "len(mystr) =  10\n"
     ]
    }
   ],
   "source": [
    "# built-in function\n",
    "mystr = 'university'\n",
    "\n",
    "#using enumerate()\n",
    "my_list_enumerate = list(enumerate(mystr))\n",
    "print('list(enumerate(mystr) = ',my_list_enumerate)\n",
    "\n",
    "print('len(mystr) = ',len(mystr))"
   ]
  },
  {
   "cell_type": "code",
   "execution_count": 101,
   "id": "30fe9f5c-6bd9-409d-a4f1-cd1694536e96",
   "metadata": {},
   "outputs": [
    {
     "name": "stdout",
     "output_type": "stream",
     "text": [
      "tell me\"what's  your name?\"\n",
      "tell me\"what's your name?\"\n",
      "tell me'what's your name?'\n",
      "tell me \"what's your name?\"\n"
     ]
    }
   ],
   "source": [
    "# string formatting using escape sequence\n",
    "#print(\"tell me\"what' is your name?\"\")\n",
    "\n",
    "# using triple qouets\n",
    "print('''tell me\"what's  your name?\"''')   \n",
    "\n",
    "#using single qoutes\n",
    "print('tell me\"what\\'s your name?\"')\n",
    "\n",
    "# using single qoutes\n",
    "print(\"tell me'what\\'s your name?'\")\n",
    "\n",
    "# using single qoutes\n",
    "print(\"tell me \\\"what's your name?\\\"\")"
   ]
  },
  {
   "cell_type": "code",
   "execution_count": 105,
   "id": "77249b64-2d97-4200-8319-1b1a9cae640b",
   "metadata": {},
   "outputs": [
    {
     "name": "stdout",
     "output_type": "stream",
     "text": [
      "c:\\User\\user\\mydata.txt\n",
      "this line is having a new line \n",
      "character\n",
      "this line is having a tab \t character\n",
      "ABC written in ABC (HEX) representation\n"
     ]
    }
   ],
   "source": [
    "print(\"c:\\\\User\\\\user\\\\mydata.txt\")\n",
    "print(\"this line is having a new line \\ncharacter\")\n",
    "print(\"this line is having a tab \\t character\")\n",
    "print(\"ABC written in \\x41\\x42\\x43 (HEX) representation\")\n",
    "    "
   ]
  },
  {
   "cell_type": "code",
   "execution_count": 113,
   "id": "31fc4127-5489-4268-94c8-f43b87b1e1e9",
   "metadata": {},
   "outputs": [
    {
     "name": "stdout",
     "output_type": "stream",
     "text": [
      "Today is and Sunday\n",
      "Today is and Sunday\n",
      "Today is and Sunday\n"
     ]
    }
   ],
   "source": [
    "# format() method\n",
    "# default(implicit) order\n",
    "default_order = \"{} {} and {}\".format('Today','is','Sunday')\n",
    "print(default_order)\n",
    "\n",
    "# order using positional argument\n",
    "positional_order = \"{1} {0} and {2}\".format('is','Today','Sunday')\n",
    "print(positional_order)\n",
    "\n",
    "\n",
    "# order using keyword argument\n",
    "keyword_order = \"{t} {i} and {s}\".format(i='is',t='Today',s='Sunday')\n",
    "print(keyword_order)"
   ]
  },
  {
   "cell_type": "code",
   "execution_count": 133,
   "id": "d58df3fb-7a31-4056-b466-ddbcee79cbde",
   "metadata": {},
   "outputs": [
    {
     "name": "stdout",
     "output_type": "stream",
     "text": [
      "Required binary representation of 20 is 10100\n",
      "Exponent representation: 1.566345e+03\n",
      "One third: 0.33\n"
     ]
    }
   ],
   "source": [
    "# formatting numbers\n",
    "print(\"Required binary representation of {0} is {0:b}\".format(20))\n",
    "\n",
    "# formatting floats\n",
    "print(\"Exponent representation: {0:e}\".format(1566.345))\n",
    "\n",
    "# round off\n",
    "print(\"One third: {0:.2f}\".format(1/3))"
   ]
  },
  {
   "cell_type": "code",
   "execution_count": 139,
   "id": "e0f7cb1e-7664-41b0-806f-1a8af4be287c",
   "metadata": {},
   "outputs": [
    {
     "name": "stdout",
     "output_type": "stream",
     "text": [
      "good morning to all\n",
      "GOOD MORNING TO ALL\n",
      "13\n",
      "-1\n",
      "gOOD moRNing tO everybody\n",
      "gOOD moRNing tO alL\n",
      "good morning to all\n"
     ]
    }
   ],
   "source": [
    "#string methods\n",
    "print(\"gOOD moRNing tO alL\".lower())\n",
    "print(\"gOOD moRNing tO alL\".upper())\n",
    "print(\"gOOD moRNing tO alL\".find('tO'))\n",
    "print(\"gOOD moRNing tO alL\".find('to'))\n",
    "print(\"gOOD moRNing tO alL\".replace('alL','everybody'))\n",
    "print(\"gOOD moRNing tO alL\".replace('all','everybody'))"
   ]
  },
  {
   "cell_type": "code",
   "execution_count": null,
   "id": "95b36cc5-af93-445e-8411-1201f37b5012",
   "metadata": {},
   "outputs": [],
   "source": []
  }
 ],
 "metadata": {
  "kernelspec": {
   "display_name": "Python 3 (ipykernel)",
   "language": "python",
   "name": "python3"
  },
  "language_info": {
   "codemirror_mode": {
    "name": "ipython",
    "version": 3
   },
   "file_extension": ".py",
   "mimetype": "text/x-python",
   "name": "python",
   "nbconvert_exporter": "python",
   "pygments_lexer": "ipython3",
   "version": "3.12.4"
  }
 },
 "nbformat": 4,
 "nbformat_minor": 5
}
