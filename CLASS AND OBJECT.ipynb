{
 "cells": [
  {
   "cell_type": "code",
   "execution_count": 70,
   "id": "b1afc25b-baba-4bf7-9aa0-cda3c2a55c8f",
   "metadata": {},
   "outputs": [],
   "source": [
    "class MyComplexNumber:\n",
    "    def __init__(self, real=0, imag=0):\n",
    "        print(\"My complex number\")\n",
    "        self.real_part = real\n",
    "        self.imag_part = imag\n",
    "\n",
    "    def displayComplex(self):\n",
    "        print(\"{0}+{1}j\".format(self.real_part, self.imag_part))"
   ]
  },
  {
   "cell_type": "code",
   "execution_count": 72,
   "id": "54b2ac55-89fa-4bd8-a6c0-72e7f98ef0a1",
   "metadata": {},
   "outputs": [
    {
     "name": "stdout",
     "output_type": "stream",
     "text": [
      "My complex number\n",
      "30+40j\n"
     ]
    }
   ],
   "source": [
    "complex_num = MyComplexNumber(30, 40)\n",
    "complex_num.displayComplex()"
   ]
  },
  {
   "cell_type": "code",
   "execution_count": 68,
   "id": "e3e49c70-475d-404a-8c62-4b5612de4109",
   "metadata": {},
   "outputs": [
    {
     "name": "stdout",
     "output_type": "stream",
     "text": [
      "My complex number\n",
      "50+60j\n",
      "(50, 60, 70)\n"
     ]
    }
   ],
   "source": [
    "complex_num1=MyComplexNumber(50,60)\n",
    "complex_num1.new_attribute= 70\n",
    "complex_num1.displayComplex()\n",
    "print((complex_num1.real_part,complex_num1.imag_part,complex_num1.new_attribute))"
   ]
  },
  {
   "cell_type": "code",
   "execution_count": 76,
   "id": "4048df52-ba38-4497-9e78-a11e097143c7",
   "metadata": {},
   "outputs": [
    {
     "data": {
      "text/plain": [
       "70"
      ]
     },
     "execution_count": 76,
     "metadata": {},
     "output_type": "execute_result"
    }
   ],
   "source": [
    "complex_num1.new_attribute"
   ]
  },
  {
   "cell_type": "code",
   "execution_count": 78,
   "id": "c6ceaf12-9f6a-48ca-b40f-8468cc09555a",
   "metadata": {},
   "outputs": [
    {
     "name": "stdout",
     "output_type": "stream",
     "text": [
      "<__main__.MyComplexNumber object at 0x000002EAD914BD70>\n"
     ]
    }
   ],
   "source": [
    "print(complex_num)"
   ]
  },
  {
   "cell_type": "code",
   "execution_count": 80,
   "id": "2b6c9966-d6b0-48bf-a6a8-91e7b2b8e409",
   "metadata": {},
   "outputs": [],
   "source": [
    "del complex_num.real_part"
   ]
  },
  {
   "cell_type": "code",
   "execution_count": 82,
   "id": "bc010f50-2a66-47c9-8fab-e780942ce647",
   "metadata": {},
   "outputs": [
    {
     "name": "stdout",
     "output_type": "stream",
     "text": [
      "<__main__.MyComplexNumber object at 0x000002EAD914BD70>\n"
     ]
    }
   ],
   "source": [
    "print(complex_num)"
   ]
  },
  {
   "cell_type": "code",
   "execution_count": 84,
   "id": "2d939e94-9c2a-4c3b-af41-6af97e1f23b4",
   "metadata": {},
   "outputs": [],
   "source": [
    "del complex_num"
   ]
  },
  {
   "cell_type": "code",
   "execution_count": null,
   "id": "f203e541-2e6c-4b77-a178-9ab1f5a3ee82",
   "metadata": {},
   "outputs": [],
   "source": []
  }
 ],
 "metadata": {
  "kernelspec": {
   "display_name": "Python 3 (ipykernel)",
   "language": "python",
   "name": "python3"
  },
  "language_info": {
   "codemirror_mode": {
    "name": "ipython",
    "version": 3
   },
   "file_extension": ".py",
   "mimetype": "text/x-python",
   "name": "python",
   "nbconvert_exporter": "python",
   "pygments_lexer": "ipython3",
   "version": "3.12.4"
  }
 },
 "nbformat": 4,
 "nbformat_minor": 5
}
